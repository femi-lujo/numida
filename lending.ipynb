{
 "cells": [
  {
   "cell_type": "markdown",
   "id": "6c9c9b05",
   "metadata": {},
   "source": [
    "# Data Wrangling "
   ]
  },
  {
   "cell_type": "markdown",
   "id": "145b42c1",
   "metadata": {},
   "source": [
    "## Loading Information"
   ]
  },
  {
   "cell_type": "code",
   "execution_count": 1,
   "id": "536bec62",
   "metadata": {},
   "outputs": [],
   "source": [
    "import pandas as pd\n",
    "import matplotlib.pyplot as plt\n",
    "import seaborn as sns\n",
    "import missingno as msno\n",
    "from sklearn.preprocessing import OneHotEncoder, StandardScaler\n",
    "from sklearn.model_selection import train_test_split\n",
    "from sklearn.linear_model import LogisticRegression\n",
    "from sklearn.metrics import roc_auc_score, average_precision_score, precision_recall_curve\n",
    "from sklearn.metrics import confusion_matrix, classification_report, fbeta_score"
   ]
  },
  {
   "cell_type": "code",
   "execution_count": 2,
   "id": "9dd8f71e",
   "metadata": {},
   "outputs": [],
   "source": [
    "lending_data = pd.read_csv('lending_data.csv')"
   ]
  },
  {
   "cell_type": "code",
   "execution_count": 3,
   "id": "bf651993",
   "metadata": {
    "scrolled": false
   },
   "outputs": [
    {
     "data": {
      "text/html": [
       "<div>\n",
       "<style scoped>\n",
       "    .dataframe tbody tr th:only-of-type {\n",
       "        vertical-align: middle;\n",
       "    }\n",
       "\n",
       "    .dataframe tbody tr th {\n",
       "        vertical-align: top;\n",
       "    }\n",
       "\n",
       "    .dataframe thead th {\n",
       "        text-align: right;\n",
       "    }\n",
       "</style>\n",
       "<table border=\"1\" class=\"dataframe\">\n",
       "  <thead>\n",
       "    <tr style=\"text-align: right;\">\n",
       "      <th></th>\n",
       "      <th>monthly_income</th>\n",
       "      <th>industry</th>\n",
       "      <th>years_in_operation</th>\n",
       "      <th>monthly_rent</th>\n",
       "      <th>principal</th>\n",
       "      <th>due_date</th>\n",
       "      <th>completed_at</th>\n",
       "    </tr>\n",
       "  </thead>\n",
       "  <tbody>\n",
       "    <tr>\n",
       "      <th>0</th>\n",
       "      <td>4510000.0</td>\n",
       "      <td>metalworking</td>\n",
       "      <td>3.0</td>\n",
       "      <td>30000.0</td>\n",
       "      <td>359900.0</td>\n",
       "      <td>2021-02-26</td>\n",
       "      <td>2021-02-26</td>\n",
       "    </tr>\n",
       "    <tr>\n",
       "      <th>1</th>\n",
       "      <td>7130000.0</td>\n",
       "      <td>fashion</td>\n",
       "      <td>1.0</td>\n",
       "      <td>40000.0</td>\n",
       "      <td>597800.0</td>\n",
       "      <td>2021-12-04</td>\n",
       "      <td>2021-12-14</td>\n",
       "    </tr>\n",
       "    <tr>\n",
       "      <th>2</th>\n",
       "      <td>3880000.0</td>\n",
       "      <td>electronics</td>\n",
       "      <td>1.0</td>\n",
       "      <td>21000.0</td>\n",
       "      <td>474700.0</td>\n",
       "      <td>2021-09-01</td>\n",
       "      <td>2021-09-01</td>\n",
       "    </tr>\n",
       "    <tr>\n",
       "      <th>3</th>\n",
       "      <td>5590000.0</td>\n",
       "      <td>mobile money</td>\n",
       "      <td>3.0</td>\n",
       "      <td>41000.0</td>\n",
       "      <td>487800.0</td>\n",
       "      <td>2021-08-29</td>\n",
       "      <td>2021-08-24</td>\n",
       "    </tr>\n",
       "    <tr>\n",
       "      <th>4</th>\n",
       "      <td>3950000.0</td>\n",
       "      <td>metalworking</td>\n",
       "      <td>4.0</td>\n",
       "      <td>26000.0</td>\n",
       "      <td>381000.0</td>\n",
       "      <td>2021-12-17</td>\n",
       "      <td>2021-12-10</td>\n",
       "    </tr>\n",
       "  </tbody>\n",
       "</table>\n",
       "</div>"
      ],
      "text/plain": [
       "   monthly_income      industry  years_in_operation  monthly_rent  principal  \\\n",
       "0       4510000.0  metalworking                 3.0       30000.0   359900.0   \n",
       "1       7130000.0       fashion                 1.0       40000.0   597800.0   \n",
       "2       3880000.0   electronics                 1.0       21000.0   474700.0   \n",
       "3       5590000.0  mobile money                 3.0       41000.0   487800.0   \n",
       "4       3950000.0  metalworking                 4.0       26000.0   381000.0   \n",
       "\n",
       "     due_date completed_at  \n",
       "0  2021-02-26   2021-02-26  \n",
       "1  2021-12-04   2021-12-14  \n",
       "2  2021-09-01   2021-09-01  \n",
       "3  2021-08-29   2021-08-24  \n",
       "4  2021-12-17   2021-12-10  "
      ]
     },
     "execution_count": 3,
     "metadata": {},
     "output_type": "execute_result"
    }
   ],
   "source": [
    "lending_data.head()"
   ]
  },
  {
   "cell_type": "markdown",
   "id": "054388f3",
   "metadata": {},
   "source": [
    "Determine data types"
   ]
  },
  {
   "cell_type": "code",
   "execution_count": 4,
   "id": "ef583efd",
   "metadata": {
    "scrolled": false
   },
   "outputs": [
    {
     "name": "stdout",
     "output_type": "stream",
     "text": [
      "<class 'pandas.core.frame.DataFrame'>\n",
      "RangeIndex: 20000 entries, 0 to 19999\n",
      "Data columns (total 7 columns):\n",
      " #   Column              Non-Null Count  Dtype  \n",
      "---  ------              --------------  -----  \n",
      " 0   monthly_income      20000 non-null  float64\n",
      " 1   industry            19029 non-null  object \n",
      " 2   years_in_operation  18355 non-null  float64\n",
      " 3   monthly_rent        20000 non-null  float64\n",
      " 4   principal           20000 non-null  float64\n",
      " 5   due_date            20000 non-null  object \n",
      " 6   completed_at        19421 non-null  object \n",
      "dtypes: float64(4), object(3)\n",
      "memory usage: 1.1+ MB\n"
     ]
    }
   ],
   "source": [
    "lending_data.info()"
   ]
  },
  {
   "cell_type": "markdown",
   "id": "d4e81905",
   "metadata": {},
   "source": [
    "Convert date features to datetime"
   ]
  },
  {
   "cell_type": "code",
   "execution_count": 5,
   "id": "5b6f5d3a",
   "metadata": {},
   "outputs": [],
   "source": [
    "def datetime_converter(df, date_feature_list):\n",
    "    for date_feature in date_feature_list:\n",
    "        df[date_feature] = df[date_feature].apply(pd.to_datetime)\n",
    "    \n",
    "    return df"
   ]
  },
  {
   "cell_type": "code",
   "execution_count": 6,
   "id": "5fc93748",
   "metadata": {},
   "outputs": [],
   "source": [
    "date_features = ['due_date', 'completed_at']\n",
    "lending_data = datetime_converter(lending_data, date_features)"
   ]
  },
  {
   "cell_type": "code",
   "execution_count": 7,
   "id": "7b2ae3f1",
   "metadata": {
    "scrolled": true
   },
   "outputs": [
    {
     "data": {
      "text/html": [
       "<div>\n",
       "<style scoped>\n",
       "    .dataframe tbody tr th:only-of-type {\n",
       "        vertical-align: middle;\n",
       "    }\n",
       "\n",
       "    .dataframe tbody tr th {\n",
       "        vertical-align: top;\n",
       "    }\n",
       "\n",
       "    .dataframe thead th {\n",
       "        text-align: right;\n",
       "    }\n",
       "</style>\n",
       "<table border=\"1\" class=\"dataframe\">\n",
       "  <thead>\n",
       "    <tr style=\"text-align: right;\">\n",
       "      <th></th>\n",
       "      <th>due_date</th>\n",
       "      <th>completed_at</th>\n",
       "    </tr>\n",
       "  </thead>\n",
       "  <tbody>\n",
       "    <tr>\n",
       "      <th>0</th>\n",
       "      <td>2021-02-26</td>\n",
       "      <td>2021-02-26</td>\n",
       "    </tr>\n",
       "    <tr>\n",
       "      <th>1</th>\n",
       "      <td>2021-12-04</td>\n",
       "      <td>2021-12-14</td>\n",
       "    </tr>\n",
       "    <tr>\n",
       "      <th>2</th>\n",
       "      <td>2021-09-01</td>\n",
       "      <td>2021-09-01</td>\n",
       "    </tr>\n",
       "    <tr>\n",
       "      <th>3</th>\n",
       "      <td>2021-08-29</td>\n",
       "      <td>2021-08-24</td>\n",
       "    </tr>\n",
       "    <tr>\n",
       "      <th>4</th>\n",
       "      <td>2021-12-17</td>\n",
       "      <td>2021-12-10</td>\n",
       "    </tr>\n",
       "  </tbody>\n",
       "</table>\n",
       "</div>"
      ],
      "text/plain": [
       "    due_date completed_at\n",
       "0 2021-02-26   2021-02-26\n",
       "1 2021-12-04   2021-12-14\n",
       "2 2021-09-01   2021-09-01\n",
       "3 2021-08-29   2021-08-24\n",
       "4 2021-12-17   2021-12-10"
      ]
     },
     "execution_count": 7,
     "metadata": {},
     "output_type": "execute_result"
    }
   ],
   "source": [
    "lending_data[['due_date', 'completed_at']].head()"
   ]
  },
  {
   "cell_type": "code",
   "execution_count": 8,
   "id": "f03ec86f",
   "metadata": {},
   "outputs": [
    {
     "data": {
      "text/plain": [
       "(dtype('<M8[ns]'), dtype('<M8[ns]'))"
      ]
     },
     "execution_count": 8,
     "metadata": {},
     "output_type": "execute_result"
    }
   ],
   "source": [
    "lending_data.due_date.dtype, lending_data.completed_at.dtype"
   ]
  },
  {
   "cell_type": "markdown",
   "id": "e23e9b10",
   "metadata": {},
   "source": [
    "Missing values"
   ]
  },
  {
   "cell_type": "code",
   "execution_count": 9,
   "id": "7b0b2445",
   "metadata": {},
   "outputs": [
    {
     "data": {
      "image/png": "[encoded data removed]",
      "text/plain": [
       "<Figure size 1800x720 with 3 Axes>"
      ]
     },
     "metadata": {
      "needs_background": "light"
     },
     "output_type": "display_data"
    }
   ],
   "source": [
    "msno.bar(lending_data, sort = 'ascending')\n",
    "plt.title('Counts and proportions of non-missing values per features', fontsize = 25);"
   ]
  },
  {
   "cell_type": "markdown",
   "id": "71c8d388",
   "metadata": {},
   "source": [
    "We observe that years_in_operation, industry and completed_at have missing values. "
   ]
  },
  {
   "cell_type": "markdown",
   "id": "21333f5a",
   "metadata": {},
   "source": [
    "We know that a completed_at value with no information likely implies that the business defaulted on their loan. \n",
    "We can use a placeholder for those businesses who did not specify an industry. \n",
    "A business that did not include the number of years_in_operation could either be an oversight or could be an indication that the business was relatively new. This needs to be clarified with Numida.We will review this later on. "
   ]
  },
  {
   "cell_type": "code",
   "execution_count": 10,
   "id": "b0ab02ca",
   "metadata": {},
   "outputs": [],
   "source": [
    " def data_distributions(feature, unit, df = lending_data):\n",
    "    fig, axs = plt.subplots(1, 2, figsize = (15, 6))\n",
    "    \n",
    "    axs[0].set_title(f'Histogram of {feature}')\n",
    "    df[feature].plot(kind = 'hist', ax = axs[0])\n",
    "    axs[0].set_xlabel(f'{feature} ({unit})');\n",
    "\n",
    "    \n",
    "    axs[1].set_title(f'Boxplot of {feature}')\n",
    "    sns.boxplot(data = df, y = feature, ax = axs[1])\n",
    "    axs[1].set_ylabel(f'{feature} ({unit})');\n",
    "\n",
    "def boxplots(feature, target = 'default', df = lending_data):\n",
    "    plt.subplots(figsize =(8,5))\n",
    "    sns.boxplot(data = df, x = 'default', y = feature)\n",
    "    "
   ]
  },
  {
   "cell_type": "markdown",
   "id": "619a234e",
   "metadata": {},
   "source": [
    "Monthly Income Distribution"
   ]
  },
  {
   "cell_type": "code",
   "execution_count": 11,
   "id": "bac11277",
   "metadata": {},
   "outputs": [
    {
     "data": {
      "image/png": "[encoded data removed]",
      "text/plain": [
       "<Figure size 1080x432 with 2 Axes>"
      ]
     },
     "metadata": {
      "needs_background": "light"
     },
     "output_type": "display_data"
    }
   ],
   "source": [
    "data_distributions('monthly_income', 'shillings')"
   ]
  },
  {
   "cell_type": "markdown",
   "id": "2fb0f020",
   "metadata": {},
   "source": [
    "Distribution of Industry"
   ]
  },
  {
   "cell_type": "code",
   "execution_count": 12,
   "id": "3aad8016",
   "metadata": {
    "scrolled": false
   },
   "outputs": [
    {
     "data": {
      "text/plain": [
       "metalworking    3874\n",
       "staple goods    3836\n",
       "mobile money    3804\n",
       "fashion         3795\n",
       "electronics     3720\n",
       "NaN              971\n",
       "Name: industry, dtype: int64"
      ]
     },
     "execution_count": 12,
     "metadata": {},
     "output_type": "execute_result"
    }
   ],
   "source": [
    "lending_data.industry.value_counts(dropna = False)"
   ]
  },
  {
   "cell_type": "markdown",
   "id": "d8337b26",
   "metadata": {},
   "source": [
    "Let's replace the missing values with 'none'. "
   ]
  },
  {
   "cell_type": "code",
   "execution_count": 13,
   "id": "50a421f1",
   "metadata": {},
   "outputs": [
    {
     "name": "stderr",
     "output_type": "stream",
     "text": [
      "<ipython-input-13-71a2f50cd0b2>:1: SettingWithCopyWarning: \n",
      "A value is trying to be set on a copy of a slice from a DataFrame\n",
      "\n",
      "See the caveats in the documentation: https://pandas.pydata.org/pandas-docs/stable/user_guide/indexing.html#returning-a-view-versus-a-copy\n",
      "  lending_data.industry[lending_data.industry.isnull()] = 'none'\n"
     ]
    }
   ],
   "source": [
    "lending_data.industry[lending_data.industry.isnull()] = 'none'"
   ]
  },
  {
   "cell_type": "code",
   "execution_count": 14,
   "id": "992eb071",
   "metadata": {
    "scrolled": true
   },
   "outputs": [
    {
     "data": {
      "image/png": "[encoded data removed]",
      "text/plain": [
       "<Figure size 432x288 with 1 Axes>"
      ]
     },
     "metadata": {
      "needs_background": "light"
     },
     "output_type": "display_data"
    }
   ],
   "source": [
    "lending_data.industry.value_counts().plot(kind = 'bar');"
   ]
  },
  {
   "cell_type": "markdown",
   "id": "38c57f39",
   "metadata": {},
   "source": [
    "Distribution of years in operation"
   ]
  },
  {
   "cell_type": "code",
   "execution_count": 15,
   "id": "f7bd60c9",
   "metadata": {
    "scrolled": false
   },
   "outputs": [
    {
     "data": {
      "text/plain": [
       "4.0    3726\n",
       "2.0    3718\n",
       "5.0    3660\n",
       "1.0    3629\n",
       "3.0    3622\n",
       "NaN    1645\n",
       "Name: years_in_operation, dtype: int64"
      ]
     },
     "execution_count": 15,
     "metadata": {},
     "output_type": "execute_result"
    }
   ],
   "source": [
    "lending_data.years_in_operation.value_counts(dropna = False)"
   ]
  },
  {
   "cell_type": "code",
   "execution_count": 16,
   "id": "c18a5de3",
   "metadata": {},
   "outputs": [
    {
     "data": {
      "text/html": [
       "<div>\n",
       "<style scoped>\n",
       "    .dataframe tbody tr th:only-of-type {\n",
       "        vertical-align: middle;\n",
       "    }\n",
       "\n",
       "    .dataframe tbody tr th {\n",
       "        vertical-align: top;\n",
       "    }\n",
       "\n",
       "    .dataframe thead th {\n",
       "        text-align: right;\n",
       "    }\n",
       "</style>\n",
       "<table border=\"1\" class=\"dataframe\">\n",
       "  <thead>\n",
       "    <tr style=\"text-align: right;\">\n",
       "      <th></th>\n",
       "      <th>monthly_income</th>\n",
       "      <th>industry</th>\n",
       "      <th>years_in_operation</th>\n",
       "      <th>monthly_rent</th>\n",
       "      <th>principal</th>\n",
       "      <th>due_date</th>\n",
       "      <th>completed_at</th>\n",
       "    </tr>\n",
       "  </thead>\n",
       "  <tbody>\n",
       "    <tr>\n",
       "      <th>10</th>\n",
       "      <td>4410000.0</td>\n",
       "      <td>metalworking</td>\n",
       "      <td>NaN</td>\n",
       "      <td>17000.0</td>\n",
       "      <td>377900.0</td>\n",
       "      <td>2021-11-30</td>\n",
       "      <td>2021-11-25</td>\n",
       "    </tr>\n",
       "    <tr>\n",
       "      <th>22</th>\n",
       "      <td>4830000.0</td>\n",
       "      <td>mobile money</td>\n",
       "      <td>NaN</td>\n",
       "      <td>40000.0</td>\n",
       "      <td>421300.0</td>\n",
       "      <td>2021-08-25</td>\n",
       "      <td>2021-08-25</td>\n",
       "    </tr>\n",
       "    <tr>\n",
       "      <th>42</th>\n",
       "      <td>3080000.0</td>\n",
       "      <td>fashion</td>\n",
       "      <td>NaN</td>\n",
       "      <td>37000.0</td>\n",
       "      <td>241400.0</td>\n",
       "      <td>2021-03-27</td>\n",
       "      <td>2021-03-26</td>\n",
       "    </tr>\n",
       "    <tr>\n",
       "      <th>43</th>\n",
       "      <td>4730000.0</td>\n",
       "      <td>fashion</td>\n",
       "      <td>NaN</td>\n",
       "      <td>16000.0</td>\n",
       "      <td>361400.0</td>\n",
       "      <td>2021-09-16</td>\n",
       "      <td>2021-09-16</td>\n",
       "    </tr>\n",
       "    <tr>\n",
       "      <th>59</th>\n",
       "      <td>3880000.0</td>\n",
       "      <td>metalworking</td>\n",
       "      <td>NaN</td>\n",
       "      <td>16000.0</td>\n",
       "      <td>311600.0</td>\n",
       "      <td>2021-09-23</td>\n",
       "      <td>2021-09-27</td>\n",
       "    </tr>\n",
       "  </tbody>\n",
       "</table>\n",
       "</div>"
      ],
      "text/plain": [
       "    monthly_income      industry  years_in_operation  monthly_rent  principal  \\\n",
       "10       4410000.0  metalworking                 NaN       17000.0   377900.0   \n",
       "22       4830000.0  mobile money                 NaN       40000.0   421300.0   \n",
       "42       3080000.0       fashion                 NaN       37000.0   241400.0   \n",
       "43       4730000.0       fashion                 NaN       16000.0   361400.0   \n",
       "59       3880000.0  metalworking                 NaN       16000.0   311600.0   \n",
       "\n",
       "     due_date completed_at  \n",
       "10 2021-11-30   2021-11-25  \n",
       "22 2021-08-25   2021-08-25  \n",
       "42 2021-03-27   2021-03-26  \n",
       "43 2021-09-16   2021-09-16  \n",
       "59 2021-09-23   2021-09-27  "
      ]
     },
     "execution_count": 16,
     "metadata": {},
     "output_type": "execute_result"
    }
   ],
   "source": [
    "lending_data[lending_data.years_in_operation.isnull()].head()"
   ]
  },
  {
   "cell_type": "code",
   "execution_count": 17,
   "id": "4482a8e8",
   "metadata": {},
   "outputs": [
    {
     "data": {
      "image/png": "[encoded data removed]",
      "text/plain": [
       "<Figure size 1080x432 with 2 Axes>"
      ]
     },
     "metadata": {
      "needs_background": "light"
     },
     "output_type": "display_data"
    }
   ],
   "source": [
    "data_distributions('years_in_operation', 'years')"
   ]
  },
  {
   "cell_type": "markdown",
   "id": "fa584f8d",
   "metadata": {},
   "source": [
    "Distribution of monthly rent"
   ]
  },
  {
   "cell_type": "code",
   "execution_count": 18,
   "id": "666774d5",
   "metadata": {},
   "outputs": [
    {
     "data": {
      "image/png": "[encoded data removed]",
      "text/plain": [
       "<Figure size 1080x432 with 2 Axes>"
      ]
     },
     "metadata": {
      "needs_background": "light"
     },
     "output_type": "display_data"
    }
   ],
   "source": [
    "data_distributions('monthly_rent', 'shillings')"
   ]
  },
  {
   "cell_type": "markdown",
   "id": "1f29fa90",
   "metadata": {},
   "source": [
    "Distribution of principal"
   ]
  },
  {
   "cell_type": "code",
   "execution_count": 19,
   "id": "bca893f2",
   "metadata": {
    "scrolled": false
   },
   "outputs": [
    {
     "data": {
      "image/png": "[encoded data removed]",
      "text/plain": [
       "<Figure size 1080x432 with 2 Axes>"
      ]
     },
     "metadata": {
      "needs_background": "light"
     },
     "output_type": "display_data"
    }
   ],
   "source": [
    "data_distributions('principal', 'shillings')"
   ]
  },
  {
   "cell_type": "markdown",
   "id": "a4bf0eef",
   "metadata": {},
   "source": [
    "Missing values for completed_at"
   ]
  },
  {
   "cell_type": "markdown",
   "id": "f9a21af0",
   "metadata": {},
   "source": [
    "Given that completed_at indicates whether a loan has been repaid, we can assume that a null entry means that the loans has not been repaid. This ideally will need to be verified by the business. Since we define our default is being delinquent for over 2 weeks, we will replace the missing completed_at values with the due_data plus 21 days. We choose 21 days to ensure that it the lag is over 14 days. "
   ]
  },
  {
   "cell_type": "code",
   "execution_count": 20,
   "id": "72fdbbfe",
   "metadata": {},
   "outputs": [
    {
     "data": {
      "text/plain": [
       "0"
      ]
     },
     "execution_count": 20,
     "metadata": {},
     "output_type": "execute_result"
    }
   ],
   "source": [
    "missing_completed_mask = lending_data.completed_at.isnull()\n",
    "lending_data.loc[missing_completed_mask, 'completed_at'] = lending_data.loc[missing_completed_mask, 'due_date'] + pd.Timedelta(days = 21)\n",
    "lending_data.completed_at.isnull().sum()"
   ]
  },
  {
   "cell_type": "markdown",
   "id": "c2ec97b9",
   "metadata": {},
   "source": [
    "# Exploratory Data Analysis\n",
    "    "
   ]
  },
  {
   "cell_type": "markdown",
   "id": "912cb869",
   "metadata": {},
   "source": [
    "Check date range of due_date and completed_at"
   ]
  },
  {
   "cell_type": "code",
   "execution_count": 21,
   "id": "33662055",
   "metadata": {
    "scrolled": true
   },
   "outputs": [
    {
     "data": {
      "text/html": [
       "<div>\n",
       "<style scoped>\n",
       "    .dataframe tbody tr th:only-of-type {\n",
       "        vertical-align: middle;\n",
       "    }\n",
       "\n",
       "    .dataframe tbody tr th {\n",
       "        vertical-align: top;\n",
       "    }\n",
       "\n",
       "    .dataframe thead th {\n",
       "        text-align: right;\n",
       "    }\n",
       "</style>\n",
       "<table border=\"1\" class=\"dataframe\">\n",
       "  <thead>\n",
       "    <tr style=\"text-align: right;\">\n",
       "      <th></th>\n",
       "      <th>due_date</th>\n",
       "      <th>completed_at</th>\n",
       "    </tr>\n",
       "  </thead>\n",
       "  <tbody>\n",
       "    <tr>\n",
       "      <th>count</th>\n",
       "      <td>20000</td>\n",
       "      <td>20000</td>\n",
       "    </tr>\n",
       "    <tr>\n",
       "      <th>mean</th>\n",
       "      <td>2021-07-04 08:15:21.600000</td>\n",
       "      <td>2021-07-05 04:19:20.640000</td>\n",
       "    </tr>\n",
       "    <tr>\n",
       "      <th>min</th>\n",
       "      <td>2021-01-01 00:00:00</td>\n",
       "      <td>2020-12-25 00:00:00</td>\n",
       "    </tr>\n",
       "    <tr>\n",
       "      <th>25%</th>\n",
       "      <td>2021-04-05 00:00:00</td>\n",
       "      <td>2021-04-05 00:00:00</td>\n",
       "    </tr>\n",
       "    <tr>\n",
       "      <th>50%</th>\n",
       "      <td>2021-07-05 00:00:00</td>\n",
       "      <td>2021-07-06 00:00:00</td>\n",
       "    </tr>\n",
       "    <tr>\n",
       "      <th>75%</th>\n",
       "      <td>2021-10-03 00:00:00</td>\n",
       "      <td>2021-10-04 00:00:00</td>\n",
       "    </tr>\n",
       "    <tr>\n",
       "      <th>max</th>\n",
       "      <td>2022-01-01 00:00:00</td>\n",
       "      <td>2022-02-13 00:00:00</td>\n",
       "    </tr>\n",
       "  </tbody>\n",
       "</table>\n",
       "</div>"
      ],
      "text/plain": [
       "                         due_date                completed_at\n",
       "count                       20000                       20000\n",
       "mean   2021-07-04 08:15:21.600000  2021-07-05 04:19:20.640000\n",
       "min           2021-01-01 00:00:00         2020-12-25 00:00:00\n",
       "25%           2021-04-05 00:00:00         2021-04-05 00:00:00\n",
       "50%           2021-07-05 00:00:00         2021-07-06 00:00:00\n",
       "75%           2021-10-03 00:00:00         2021-10-04 00:00:00\n",
       "max           2022-01-01 00:00:00         2022-02-13 00:00:00"
      ]
     },
     "execution_count": 21,
     "metadata": {},
     "output_type": "execute_result"
    }
   ],
   "source": [
    "lending_data[['due_date', 'completed_at']].describe(datetime_is_numeric = True)"
   ]
  },
  {
   "cell_type": "markdown",
   "id": "48fdf647",
   "metadata": {},
   "source": [
    "Create lag (in days) for delinquent loans"
   ]
  },
  {
   "cell_type": "code",
   "execution_count": 22,
   "id": "c0b5d0bc",
   "metadata": {
    "scrolled": false
   },
   "outputs": [
    {
     "data": {
      "text/plain": [
       "0     0\n",
       "1    10\n",
       "2     0\n",
       "3    -5\n",
       "4    -7\n",
       "Name: lag_days, dtype: int64"
      ]
     },
     "execution_count": 22,
     "metadata": {},
     "output_type": "execute_result"
    }
   ],
   "source": [
    "lending_data['lag_days'] = (lending_data.completed_at - lending_data.due_date).dt.days\n",
    "lending_data.lag_days.head()"
   ]
  },
  {
   "cell_type": "markdown",
   "id": "b76e4912",
   "metadata": {},
   "source": [
    "Distribution of lag"
   ]
  },
  {
   "cell_type": "code",
   "execution_count": 23,
   "id": "a903c636",
   "metadata": {},
   "outputs": [
    {
     "data": {
      "image/png": "[encoded data removed]",
      "text/plain": [
       "<Figure size 432x288 with 1 Axes>"
      ]
     },
     "metadata": {
      "needs_background": "light"
     },
     "output_type": "display_data"
    }
   ],
   "source": [
    "lending_data.lag_days.plot(kind = 'hist');"
   ]
  },
  {
   "cell_type": "markdown",
   "id": "3c8f3e9a",
   "metadata": {},
   "source": [
    "Create label for defaults"
   ]
  },
  {
   "cell_type": "markdown",
   "id": "d1af0e95",
   "metadata": {},
   "source": [
    "Default is defined as business that doesn't repay loan in 2 weeks (14 days)"
   ]
  },
  {
   "cell_type": "code",
   "execution_count": 24,
   "id": "1493dddc",
   "metadata": {},
   "outputs": [
    {
     "data": {
      "text/plain": [
       "0    False\n",
       "1    False\n",
       "2    False\n",
       "3    False\n",
       "4    False\n",
       "Name: default, dtype: bool"
      ]
     },
     "execution_count": 24,
     "metadata": {},
     "output_type": "execute_result"
    }
   ],
   "source": [
    "lending_data['default'] = lending_data.lag_days > 14\n",
    "lending_data.default.head()"
   ]
  },
  {
   "cell_type": "markdown",
   "id": "9a0c0429",
   "metadata": {},
   "source": [
    "Review distribution of default"
   ]
  },
  {
   "cell_type": "code",
   "execution_count": 25,
   "id": "27c3e4ba",
   "metadata": {},
   "outputs": [
    {
     "data": {
      "text/plain": [
       "False    0.9518\n",
       "True     0.0482\n",
       "Name: default, dtype: float64"
      ]
     },
     "execution_count": 25,
     "metadata": {},
     "output_type": "execute_result"
    }
   ],
   "source": [
    "lending_data.default.value_counts(normalize = True)"
   ]
  },
  {
   "cell_type": "code",
   "execution_count": 26,
   "id": "93c0342c",
   "metadata": {},
   "outputs": [
    {
     "data": {
      "image/png": "[encoded data removed]",
      "text/plain": [
       "<Figure size 432x288 with 1 Axes>"
      ]
     },
     "metadata": {
      "needs_background": "light"
     },
     "output_type": "display_data"
    }
   ],
   "source": [
    "lending_data.default.value_counts().plot(kind = 'bar');"
   ]
  },
  {
   "cell_type": "markdown",
   "id": "d7e52c24",
   "metadata": {},
   "source": [
    " We note that default rate is low, which is very good, but implies that data is severly imbalanced."
   ]
  },
  {
   "cell_type": "markdown",
   "id": "3debfe7e",
   "metadata": {},
   "source": [
    "We can examine the features to see if we can spot trends associated with default"
   ]
  },
  {
   "cell_type": "markdown",
   "id": "06d094b0",
   "metadata": {},
   "source": [
    "Examine relationship between monthly income and default rate"
   ]
  },
  {
   "cell_type": "code",
   "execution_count": 27,
   "id": "8a87718a",
   "metadata": {
    "scrolled": true
   },
   "outputs": [
    {
     "data": {
      "image/png": "[encoded data removed]",
      "text/plain": [
       "<Figure size 576x360 with 1 Axes>"
      ]
     },
     "metadata": {
      "needs_background": "light"
     },
     "output_type": "display_data"
    }
   ],
   "source": [
    "boxplots('monthly_income');"
   ]
  },
  {
   "cell_type": "markdown",
   "id": "391a6408",
   "metadata": {},
   "source": [
    "Examine relationship between years in business and default"
   ]
  },
  {
   "cell_type": "code",
   "execution_count": 28,
   "id": "1f086fee",
   "metadata": {
    "scrolled": true
   },
   "outputs": [
    {
     "data": {
      "image/png": "[encoded data removed]",
      "text/plain": [
       "<Figure size 432x288 with 1 Axes>"
      ]
     },
     "metadata": {
      "needs_background": "light"
     },
     "output_type": "display_data"
    }
   ],
   "source": [
    "sns.boxplot(data = lending_data, x = 'default', y = 'years_in_operation');"
   ]
  },
  {
   "cell_type": "markdown",
   "id": "45e0811b",
   "metadata": {},
   "source": [
    "Examine relationship between monthly rent and default"
   ]
  },
  {
   "cell_type": "code",
   "execution_count": 29,
   "id": "9b34b7e6",
   "metadata": {},
   "outputs": [
    {
     "data": {
      "image/png": "[encoded data removed]",
      "text/plain": [
       "<Figure size 432x288 with 1 Axes>"
      ]
     },
     "metadata": {
      "needs_background": "light"
     },
     "output_type": "display_data"
    }
   ],
   "source": [
    "sns.boxplot(data = lending_data, x = 'default', y = 'monthly_rent');"
   ]
  },
  {
   "cell_type": "markdown",
   "id": "39693f6d",
   "metadata": {},
   "source": [
    "Examine relationship between principal and default"
   ]
  },
  {
   "cell_type": "code",
   "execution_count": 30,
   "id": "7885e27f",
   "metadata": {},
   "outputs": [
    {
     "data": {
      "image/png": "[encoded data removed]",
      "text/plain": [
       "<Figure size 432x288 with 1 Axes>"
      ]
     },
     "metadata": {
      "needs_background": "light"
     },
     "output_type": "display_data"
    }
   ],
   "source": [
    "sns.boxplot(data = lending_data, x = 'default', y = 'principal');"
   ]
  },
  {
   "cell_type": "markdown",
   "id": "f0e55afd",
   "metadata": {},
   "source": [
    "Examine relationship between industry and default"
   ]
  },
  {
   "cell_type": "code",
   "execution_count": 31,
   "id": "47d33901",
   "metadata": {},
   "outputs": [
    {
     "data": {
      "text/html": [
       "<div>\n",
       "<style scoped>\n",
       "    .dataframe tbody tr th:only-of-type {\n",
       "        vertical-align: middle;\n",
       "    }\n",
       "\n",
       "    .dataframe tbody tr th {\n",
       "        vertical-align: top;\n",
       "    }\n",
       "\n",
       "    .dataframe thead th {\n",
       "        text-align: right;\n",
       "    }\n",
       "</style>\n",
       "<table border=\"1\" class=\"dataframe\">\n",
       "  <thead>\n",
       "    <tr style=\"text-align: right;\">\n",
       "      <th></th>\n",
       "      <th></th>\n",
       "      <th>count</th>\n",
       "    </tr>\n",
       "    <tr>\n",
       "      <th>industry</th>\n",
       "      <th>default</th>\n",
       "      <th></th>\n",
       "    </tr>\n",
       "  </thead>\n",
       "  <tbody>\n",
       "    <tr>\n",
       "      <th rowspan=\"2\" valign=\"top\">electronics</th>\n",
       "      <th>False</th>\n",
       "      <td>3572</td>\n",
       "    </tr>\n",
       "    <tr>\n",
       "      <th>True</th>\n",
       "      <td>148</td>\n",
       "    </tr>\n",
       "    <tr>\n",
       "      <th rowspan=\"2\" valign=\"top\">fashion</th>\n",
       "      <th>False</th>\n",
       "      <td>3637</td>\n",
       "    </tr>\n",
       "    <tr>\n",
       "      <th>True</th>\n",
       "      <td>158</td>\n",
       "    </tr>\n",
       "    <tr>\n",
       "      <th>metalworking</th>\n",
       "      <th>False</th>\n",
       "      <td>3606</td>\n",
       "    </tr>\n",
       "  </tbody>\n",
       "</table>\n",
       "</div>"
      ],
      "text/plain": [
       "                      count\n",
       "industry     default       \n",
       "electronics  False     3572\n",
       "             True       148\n",
       "fashion      False     3637\n",
       "             True       158\n",
       "metalworking False     3606"
      ]
     },
     "execution_count": 31,
     "metadata": {},
     "output_type": "execute_result"
    }
   ],
   "source": [
    "industry_split = lending_data.groupby(['industry', 'default']).agg(count = ('default', 'count'))\n",
    "industry_split.head()"
   ]
  },
  {
   "cell_type": "code",
   "execution_count": 32,
   "id": "f4817428",
   "metadata": {},
   "outputs": [
    {
     "data": {
      "text/html": [
       "<div>\n",
       "<style scoped>\n",
       "    .dataframe tbody tr th:only-of-type {\n",
       "        vertical-align: middle;\n",
       "    }\n",
       "\n",
       "    .dataframe tbody tr th {\n",
       "        vertical-align: top;\n",
       "    }\n",
       "\n",
       "    .dataframe thead th {\n",
       "        text-align: right;\n",
       "    }\n",
       "</style>\n",
       "<table border=\"1\" class=\"dataframe\">\n",
       "  <thead>\n",
       "    <tr style=\"text-align: right;\">\n",
       "      <th></th>\n",
       "      <th>industry</th>\n",
       "      <th>default</th>\n",
       "      <th>count</th>\n",
       "    </tr>\n",
       "  </thead>\n",
       "  <tbody>\n",
       "    <tr>\n",
       "      <th>0</th>\n",
       "      <td>electronics</td>\n",
       "      <td>False</td>\n",
       "      <td>3572</td>\n",
       "    </tr>\n",
       "    <tr>\n",
       "      <th>1</th>\n",
       "      <td>electronics</td>\n",
       "      <td>True</td>\n",
       "      <td>148</td>\n",
       "    </tr>\n",
       "    <tr>\n",
       "      <th>2</th>\n",
       "      <td>fashion</td>\n",
       "      <td>False</td>\n",
       "      <td>3637</td>\n",
       "    </tr>\n",
       "    <tr>\n",
       "      <th>3</th>\n",
       "      <td>fashion</td>\n",
       "      <td>True</td>\n",
       "      <td>158</td>\n",
       "    </tr>\n",
       "    <tr>\n",
       "      <th>4</th>\n",
       "      <td>metalworking</td>\n",
       "      <td>False</td>\n",
       "      <td>3606</td>\n",
       "    </tr>\n",
       "  </tbody>\n",
       "</table>\n",
       "</div>"
      ],
      "text/plain": [
       "       industry  default  count\n",
       "0   electronics    False   3572\n",
       "1   electronics     True    148\n",
       "2       fashion    False   3637\n",
       "3       fashion     True    158\n",
       "4  metalworking    False   3606"
      ]
     },
     "execution_count": 32,
     "metadata": {},
     "output_type": "execute_result"
    }
   ],
   "source": [
    "industry_default = industry_split.reset_index()\n",
    "industry_default.head()"
   ]
  },
  {
   "cell_type": "code",
   "execution_count": 33,
   "id": "10f70e7b",
   "metadata": {
    "scrolled": false
   },
   "outputs": [
    {
     "data": {
      "image/png": "[encoded data removed]",
      "text/plain": [
       "<Figure size 421.25x360 with 1 Axes>"
      ]
     },
     "metadata": {
      "needs_background": "light"
     },
     "output_type": "display_data"
    }
   ],
   "source": [
    "sns.catplot(data = industry_default, x = 'industry', y = 'count', kind = 'bar', hue = 'default');"
   ]
  },
  {
   "cell_type": "markdown",
   "id": "b2c770ee",
   "metadata": {},
   "source": [
    "Determine proportion of defaults per industry"
   ]
  },
  {
   "cell_type": "code",
   "execution_count": 34,
   "id": "6a88a16d",
   "metadata": {},
   "outputs": [
    {
     "data": {
      "text/html": [
       "<div>\n",
       "<style scoped>\n",
       "    .dataframe tbody tr th:only-of-type {\n",
       "        vertical-align: middle;\n",
       "    }\n",
       "\n",
       "    .dataframe tbody tr th {\n",
       "        vertical-align: top;\n",
       "    }\n",
       "\n",
       "    .dataframe thead th {\n",
       "        text-align: right;\n",
       "    }\n",
       "</style>\n",
       "<table border=\"1\" class=\"dataframe\">\n",
       "  <thead>\n",
       "    <tr style=\"text-align: right;\">\n",
       "      <th></th>\n",
       "      <th></th>\n",
       "      <th>perc</th>\n",
       "    </tr>\n",
       "    <tr>\n",
       "      <th>industry</th>\n",
       "      <th>default</th>\n",
       "      <th></th>\n",
       "    </tr>\n",
       "  </thead>\n",
       "  <tbody>\n",
       "    <tr>\n",
       "      <th rowspan=\"2\" valign=\"top\">electronics</th>\n",
       "      <th>False</th>\n",
       "      <td>0.960215</td>\n",
       "    </tr>\n",
       "    <tr>\n",
       "      <th>True</th>\n",
       "      <td>0.039785</td>\n",
       "    </tr>\n",
       "    <tr>\n",
       "      <th rowspan=\"2\" valign=\"top\">fashion</th>\n",
       "      <th>False</th>\n",
       "      <td>0.958366</td>\n",
       "    </tr>\n",
       "    <tr>\n",
       "      <th>True</th>\n",
       "      <td>0.041634</td>\n",
       "    </tr>\n",
       "    <tr>\n",
       "      <th rowspan=\"2\" valign=\"top\">metalworking</th>\n",
       "      <th>False</th>\n",
       "      <td>0.930821</td>\n",
       "    </tr>\n",
       "    <tr>\n",
       "      <th>True</th>\n",
       "      <td>0.069179</td>\n",
       "    </tr>\n",
       "    <tr>\n",
       "      <th rowspan=\"2\" valign=\"top\">mobile money</th>\n",
       "      <th>False</th>\n",
       "      <td>0.960305</td>\n",
       "    </tr>\n",
       "    <tr>\n",
       "      <th>True</th>\n",
       "      <td>0.039695</td>\n",
       "    </tr>\n",
       "    <tr>\n",
       "      <th rowspan=\"2\" valign=\"top\">none</th>\n",
       "      <th>False</th>\n",
       "      <td>0.960865</td>\n",
       "    </tr>\n",
       "    <tr>\n",
       "      <th>True</th>\n",
       "      <td>0.039135</td>\n",
       "    </tr>\n",
       "    <tr>\n",
       "      <th rowspan=\"2\" valign=\"top\">staple goods</th>\n",
       "      <th>False</th>\n",
       "      <td>0.947602</td>\n",
       "    </tr>\n",
       "    <tr>\n",
       "      <th>True</th>\n",
       "      <td>0.052398</td>\n",
       "    </tr>\n",
       "  </tbody>\n",
       "</table>\n",
       "</div>"
      ],
      "text/plain": [
       "                          perc\n",
       "industry     default          \n",
       "electronics  False    0.960215\n",
       "             True     0.039785\n",
       "fashion      False    0.958366\n",
       "             True     0.041634\n",
       "metalworking False    0.930821\n",
       "             True     0.069179\n",
       "mobile money False    0.960305\n",
       "             True     0.039695\n",
       "none         False    0.960865\n",
       "             True     0.039135\n",
       "staple goods False    0.947602\n",
       "             True     0.052398"
      ]
     },
     "execution_count": 34,
     "metadata": {},
     "output_type": "execute_result"
    }
   ],
   "source": [
    "industry_default_perc = industry_split.groupby('industry').apply(lambda x: x / x.sum())\\\n",
    ".rename(columns = {'count': 'perc'})\n",
    "industry_default_perc"
   ]
  },
  {
   "cell_type": "code",
   "execution_count": 35,
   "id": "2cb93f96",
   "metadata": {},
   "outputs": [
    {
     "data": {
      "text/html": [
       "<div>\n",
       "<style scoped>\n",
       "    .dataframe tbody tr th:only-of-type {\n",
       "        vertical-align: middle;\n",
       "    }\n",
       "\n",
       "    .dataframe tbody tr th {\n",
       "        vertical-align: top;\n",
       "    }\n",
       "\n",
       "    .dataframe thead th {\n",
       "        text-align: right;\n",
       "    }\n",
       "</style>\n",
       "<table border=\"1\" class=\"dataframe\">\n",
       "  <thead>\n",
       "    <tr style=\"text-align: right;\">\n",
       "      <th></th>\n",
       "      <th>industry</th>\n",
       "      <th>industry_default_rate</th>\n",
       "    </tr>\n",
       "  </thead>\n",
       "  <tbody>\n",
       "    <tr>\n",
       "      <th>5</th>\n",
       "      <td>metalworking</td>\n",
       "      <td>0.069179</td>\n",
       "    </tr>\n",
       "    <tr>\n",
       "      <th>11</th>\n",
       "      <td>staple goods</td>\n",
       "      <td>0.052398</td>\n",
       "    </tr>\n",
       "    <tr>\n",
       "      <th>3</th>\n",
       "      <td>fashion</td>\n",
       "      <td>0.041634</td>\n",
       "    </tr>\n",
       "    <tr>\n",
       "      <th>1</th>\n",
       "      <td>electronics</td>\n",
       "      <td>0.039785</td>\n",
       "    </tr>\n",
       "    <tr>\n",
       "      <th>7</th>\n",
       "      <td>mobile money</td>\n",
       "      <td>0.039695</td>\n",
       "    </tr>\n",
       "    <tr>\n",
       "      <th>9</th>\n",
       "      <td>none</td>\n",
       "      <td>0.039135</td>\n",
       "    </tr>\n",
       "  </tbody>\n",
       "</table>\n",
       "</div>"
      ],
      "text/plain": [
       "        industry  industry_default_rate\n",
       "5   metalworking               0.069179\n",
       "11  staple goods               0.052398\n",
       "3        fashion               0.041634\n",
       "1    electronics               0.039785\n",
       "7   mobile money               0.039695\n",
       "9           none               0.039135"
      ]
     },
     "execution_count": 35,
     "metadata": {},
     "output_type": "execute_result"
    }
   ],
   "source": [
    "industry_default_df = industry_default_perc.reset_index()\n",
    "industry_default_rate = industry_default_df.query('default == True')\n",
    "industry_default_info = industry_default_rate[['industry', 'perc']].sort_values(by = 'perc', ascending = False).rename(columns = {'perc': 'industry_default_rate'})\n",
    "industry_default_info"
   ]
  },
  {
   "cell_type": "code",
   "execution_count": 36,
   "id": "94d4ed3f",
   "metadata": {
    "scrolled": false
   },
   "outputs": [
    {
     "data": {
      "image/png": "[encoded data removed]",
      "text/plain": [
       "<Figure size 432x288 with 1 Axes>"
      ]
     },
     "metadata": {
      "needs_background": "light"
     },
     "output_type": "display_data"
    }
   ],
   "source": [
    "sns.barplot(data = industry_default_info, y = 'industry', x = 'industry_default_rate');"
   ]
  },
  {
   "cell_type": "markdown",
   "id": "2d23ed37",
   "metadata": {},
   "source": [
    "Join industry default rates to dataset"
   ]
  },
  {
   "cell_type": "code",
   "execution_count": 37,
   "id": "471678f2",
   "metadata": {},
   "outputs": [
    {
     "data": {
      "text/html": [
       "<div>\n",
       "<style scoped>\n",
       "    .dataframe tbody tr th:only-of-type {\n",
       "        vertical-align: middle;\n",
       "    }\n",
       "\n",
       "    .dataframe tbody tr th {\n",
       "        vertical-align: top;\n",
       "    }\n",
       "\n",
       "    .dataframe thead th {\n",
       "        text-align: right;\n",
       "    }\n",
       "</style>\n",
       "<table border=\"1\" class=\"dataframe\">\n",
       "  <thead>\n",
       "    <tr style=\"text-align: right;\">\n",
       "      <th></th>\n",
       "      <th>monthly_income</th>\n",
       "      <th>industry</th>\n",
       "      <th>years_in_operation</th>\n",
       "      <th>monthly_rent</th>\n",
       "      <th>principal</th>\n",
       "      <th>due_date</th>\n",
       "      <th>completed_at</th>\n",
       "      <th>lag_days</th>\n",
       "      <th>default</th>\n",
       "      <th>industry_default_rate</th>\n",
       "    </tr>\n",
       "  </thead>\n",
       "  <tbody>\n",
       "    <tr>\n",
       "      <th>0</th>\n",
       "      <td>4510000.0</td>\n",
       "      <td>metalworking</td>\n",
       "      <td>3.0</td>\n",
       "      <td>30000.0</td>\n",
       "      <td>359900.0</td>\n",
       "      <td>2021-02-26</td>\n",
       "      <td>2021-02-26</td>\n",
       "      <td>0</td>\n",
       "      <td>False</td>\n",
       "      <td>0.069179</td>\n",
       "    </tr>\n",
       "    <tr>\n",
       "      <th>1</th>\n",
       "      <td>3950000.0</td>\n",
       "      <td>metalworking</td>\n",
       "      <td>4.0</td>\n",
       "      <td>26000.0</td>\n",
       "      <td>381000.0</td>\n",
       "      <td>2021-12-17</td>\n",
       "      <td>2021-12-10</td>\n",
       "      <td>-7</td>\n",
       "      <td>False</td>\n",
       "      <td>0.069179</td>\n",
       "    </tr>\n",
       "    <tr>\n",
       "      <th>2</th>\n",
       "      <td>3800000.0</td>\n",
       "      <td>metalworking</td>\n",
       "      <td>3.0</td>\n",
       "      <td>35000.0</td>\n",
       "      <td>375000.0</td>\n",
       "      <td>2021-09-18</td>\n",
       "      <td>2021-09-17</td>\n",
       "      <td>-1</td>\n",
       "      <td>False</td>\n",
       "      <td>0.069179</td>\n",
       "    </tr>\n",
       "    <tr>\n",
       "      <th>3</th>\n",
       "      <td>5130000.0</td>\n",
       "      <td>metalworking</td>\n",
       "      <td>5.0</td>\n",
       "      <td>42000.0</td>\n",
       "      <td>548300.0</td>\n",
       "      <td>2021-03-19</td>\n",
       "      <td>2021-04-09</td>\n",
       "      <td>21</td>\n",
       "      <td>True</td>\n",
       "      <td>0.069179</td>\n",
       "    </tr>\n",
       "    <tr>\n",
       "      <th>4</th>\n",
       "      <td>4130000.0</td>\n",
       "      <td>metalworking</td>\n",
       "      <td>4.0</td>\n",
       "      <td>45000.0</td>\n",
       "      <td>410400.0</td>\n",
       "      <td>2021-08-15</td>\n",
       "      <td>2021-08-15</td>\n",
       "      <td>0</td>\n",
       "      <td>False</td>\n",
       "      <td>0.069179</td>\n",
       "    </tr>\n",
       "  </tbody>\n",
       "</table>\n",
       "</div>"
      ],
      "text/plain": [
       "   monthly_income      industry  years_in_operation  monthly_rent  principal  \\\n",
       "0       4510000.0  metalworking                 3.0       30000.0   359900.0   \n",
       "1       3950000.0  metalworking                 4.0       26000.0   381000.0   \n",
       "2       3800000.0  metalworking                 3.0       35000.0   375000.0   \n",
       "3       5130000.0  metalworking                 5.0       42000.0   548300.0   \n",
       "4       4130000.0  metalworking                 4.0       45000.0   410400.0   \n",
       "\n",
       "    due_date completed_at  lag_days  default  industry_default_rate  \n",
       "0 2021-02-26   2021-02-26         0    False               0.069179  \n",
       "1 2021-12-17   2021-12-10        -7    False               0.069179  \n",
       "2 2021-09-18   2021-09-17        -1    False               0.069179  \n",
       "3 2021-03-19   2021-04-09        21     True               0.069179  \n",
       "4 2021-08-15   2021-08-15         0    False               0.069179  "
      ]
     },
     "execution_count": 37,
     "metadata": {},
     "output_type": "execute_result"
    }
   ],
   "source": [
    "lending = pd.merge(lending_data, industry_default_info, how = 'inner', on = 'industry')\n",
    "lending.head()"
   ]
  },
  {
   "cell_type": "markdown",
   "id": "051301bc",
   "metadata": {},
   "source": [
    "# Data Pre-processing and Training Data Development "
   ]
  },
  {
   "cell_type": "markdown",
   "id": "228b7f26",
   "metadata": {},
   "source": [
    "Since we do not know any date information prior to issuing a loan, we will drop all time related data. This includes completed_at, due_date and lag_days."
   ]
  },
  {
   "cell_type": "code",
   "execution_count": 38,
   "id": "05237a3b",
   "metadata": {},
   "outputs": [
    {
     "data": {
      "text/html": [
       "<div>\n",
       "<style scoped>\n",
       "    .dataframe tbody tr th:only-of-type {\n",
       "        vertical-align: middle;\n",
       "    }\n",
       "\n",
       "    .dataframe tbody tr th {\n",
       "        vertical-align: top;\n",
       "    }\n",
       "\n",
       "    .dataframe thead th {\n",
       "        text-align: right;\n",
       "    }\n",
       "</style>\n",
       "<table border=\"1\" class=\"dataframe\">\n",
       "  <thead>\n",
       "    <tr style=\"text-align: right;\">\n",
       "      <th></th>\n",
       "      <th>monthly_income</th>\n",
       "      <th>industry</th>\n",
       "      <th>years_in_operation</th>\n",
       "      <th>monthly_rent</th>\n",
       "      <th>principal</th>\n",
       "      <th>default</th>\n",
       "      <th>industry_default_rate</th>\n",
       "    </tr>\n",
       "  </thead>\n",
       "  <tbody>\n",
       "    <tr>\n",
       "      <th>0</th>\n",
       "      <td>4510000.0</td>\n",
       "      <td>metalworking</td>\n",
       "      <td>3.0</td>\n",
       "      <td>30000.0</td>\n",
       "      <td>359900.0</td>\n",
       "      <td>False</td>\n",
       "      <td>0.069179</td>\n",
       "    </tr>\n",
       "    <tr>\n",
       "      <th>1</th>\n",
       "      <td>3950000.0</td>\n",
       "      <td>metalworking</td>\n",
       "      <td>4.0</td>\n",
       "      <td>26000.0</td>\n",
       "      <td>381000.0</td>\n",
       "      <td>False</td>\n",
       "      <td>0.069179</td>\n",
       "    </tr>\n",
       "    <tr>\n",
       "      <th>2</th>\n",
       "      <td>3800000.0</td>\n",
       "      <td>metalworking</td>\n",
       "      <td>3.0</td>\n",
       "      <td>35000.0</td>\n",
       "      <td>375000.0</td>\n",
       "      <td>False</td>\n",
       "      <td>0.069179</td>\n",
       "    </tr>\n",
       "    <tr>\n",
       "      <th>3</th>\n",
       "      <td>5130000.0</td>\n",
       "      <td>metalworking</td>\n",
       "      <td>5.0</td>\n",
       "      <td>42000.0</td>\n",
       "      <td>548300.0</td>\n",
       "      <td>True</td>\n",
       "      <td>0.069179</td>\n",
       "    </tr>\n",
       "    <tr>\n",
       "      <th>4</th>\n",
       "      <td>4130000.0</td>\n",
       "      <td>metalworking</td>\n",
       "      <td>4.0</td>\n",
       "      <td>45000.0</td>\n",
       "      <td>410400.0</td>\n",
       "      <td>False</td>\n",
       "      <td>0.069179</td>\n",
       "    </tr>\n",
       "  </tbody>\n",
       "</table>\n",
       "</div>"
      ],
      "text/plain": [
       "   monthly_income      industry  years_in_operation  monthly_rent  principal  \\\n",
       "0       4510000.0  metalworking                 3.0       30000.0   359900.0   \n",
       "1       3950000.0  metalworking                 4.0       26000.0   381000.0   \n",
       "2       3800000.0  metalworking                 3.0       35000.0   375000.0   \n",
       "3       5130000.0  metalworking                 5.0       42000.0   548300.0   \n",
       "4       4130000.0  metalworking                 4.0       45000.0   410400.0   \n",
       "\n",
       "   default  industry_default_rate  \n",
       "0    False               0.069179  \n",
       "1    False               0.069179  \n",
       "2    False               0.069179  \n",
       "3     True               0.069179  \n",
       "4    False               0.069179  "
      ]
     },
     "execution_count": 38,
     "metadata": {},
     "output_type": "execute_result"
    }
   ],
   "source": [
    "lending_inter = lending[['monthly_income', 'industry', 'years_in_operation', 'monthly_rent',\n",
    "       'principal', 'default', 'industry_default_rate']]\n",
    "lending_inter.head()"
   ]
  },
  {
   "cell_type": "markdown",
   "id": "4466d61f",
   "metadata": {},
   "source": [
    "Collect a sample of 10 defaulted and 10 non-defaulted loans for later assessment"
   ]
  },
  {
   "cell_type": "code",
   "execution_count": 39,
   "id": "a07c7035",
   "metadata": {
    "scrolled": false
   },
   "outputs": [
    {
     "data": {
      "text/html": [
       "<div>\n",
       "<style scoped>\n",
       "    .dataframe tbody tr th:only-of-type {\n",
       "        vertical-align: middle;\n",
       "    }\n",
       "\n",
       "    .dataframe tbody tr th {\n",
       "        vertical-align: top;\n",
       "    }\n",
       "\n",
       "    .dataframe thead th {\n",
       "        text-align: right;\n",
       "    }\n",
       "</style>\n",
       "<table border=\"1\" class=\"dataframe\">\n",
       "  <thead>\n",
       "    <tr style=\"text-align: right;\">\n",
       "      <th></th>\n",
       "      <th></th>\n",
       "      <th></th>\n",
       "      <th>monthly_income</th>\n",
       "      <th>industry</th>\n",
       "      <th>years_in_operation</th>\n",
       "      <th>monthly_rent</th>\n",
       "      <th>principal</th>\n",
       "      <th>default</th>\n",
       "      <th>industry_default_rate</th>\n",
       "    </tr>\n",
       "    <tr>\n",
       "      <th>default</th>\n",
       "      <th>industry</th>\n",
       "      <th></th>\n",
       "      <th></th>\n",
       "      <th></th>\n",
       "      <th></th>\n",
       "      <th></th>\n",
       "      <th></th>\n",
       "      <th></th>\n",
       "      <th></th>\n",
       "    </tr>\n",
       "  </thead>\n",
       "  <tbody>\n",
       "    <tr>\n",
       "      <th rowspan=\"12\" valign=\"top\">False</th>\n",
       "      <th rowspan=\"2\" valign=\"top\">electronics</th>\n",
       "      <th>9428</th>\n",
       "      <td>4730000.0</td>\n",
       "      <td>electronics</td>\n",
       "      <td>5.0</td>\n",
       "      <td>38000.0</td>\n",
       "      <td>364900.0</td>\n",
       "      <td>False</td>\n",
       "      <td>0.039785</td>\n",
       "    </tr>\n",
       "    <tr>\n",
       "      <th>9142</th>\n",
       "      <td>4040000.0</td>\n",
       "      <td>electronics</td>\n",
       "      <td>3.0</td>\n",
       "      <td>21000.0</td>\n",
       "      <td>328700.0</td>\n",
       "      <td>False</td>\n",
       "      <td>0.039785</td>\n",
       "    </tr>\n",
       "    <tr>\n",
       "      <th rowspan=\"2\" valign=\"top\">fashion</th>\n",
       "      <th>5063</th>\n",
       "      <td>4250000.0</td>\n",
       "      <td>fashion</td>\n",
       "      <td>3.0</td>\n",
       "      <td>42000.0</td>\n",
       "      <td>360600.0</td>\n",
       "      <td>False</td>\n",
       "      <td>0.041634</td>\n",
       "    </tr>\n",
       "    <tr>\n",
       "      <th>7532</th>\n",
       "      <td>4450000.0</td>\n",
       "      <td>fashion</td>\n",
       "      <td>1.0</td>\n",
       "      <td>40000.0</td>\n",
       "      <td>348000.0</td>\n",
       "      <td>False</td>\n",
       "      <td>0.041634</td>\n",
       "    </tr>\n",
       "    <tr>\n",
       "      <th rowspan=\"2\" valign=\"top\">metalworking</th>\n",
       "      <th>1444</th>\n",
       "      <td>4390000.0</td>\n",
       "      <td>metalworking</td>\n",
       "      <td>2.0</td>\n",
       "      <td>23000.0</td>\n",
       "      <td>331100.0</td>\n",
       "      <td>False</td>\n",
       "      <td>0.069179</td>\n",
       "    </tr>\n",
       "    <tr>\n",
       "      <th>2959</th>\n",
       "      <td>3180000.0</td>\n",
       "      <td>metalworking</td>\n",
       "      <td>4.0</td>\n",
       "      <td>17000.0</td>\n",
       "      <td>257800.0</td>\n",
       "      <td>False</td>\n",
       "      <td>0.069179</td>\n",
       "    </tr>\n",
       "    <tr>\n",
       "      <th rowspan=\"2\" valign=\"top\">mobile money</th>\n",
       "      <th>13578</th>\n",
       "      <td>6100000.0</td>\n",
       "      <td>mobile money</td>\n",
       "      <td>4.0</td>\n",
       "      <td>34000.0</td>\n",
       "      <td>609000.0</td>\n",
       "      <td>False</td>\n",
       "      <td>0.039695</td>\n",
       "    </tr>\n",
       "    <tr>\n",
       "      <th>12781</th>\n",
       "      <td>7280000.0</td>\n",
       "      <td>mobile money</td>\n",
       "      <td>3.0</td>\n",
       "      <td>43000.0</td>\n",
       "      <td>611200.0</td>\n",
       "      <td>False</td>\n",
       "      <td>0.039695</td>\n",
       "    </tr>\n",
       "    <tr>\n",
       "      <th rowspan=\"2\" valign=\"top\">none</th>\n",
       "      <th>19145</th>\n",
       "      <td>7130000.0</td>\n",
       "      <td>none</td>\n",
       "      <td>4.0</td>\n",
       "      <td>39000.0</td>\n",
       "      <td>897600.0</td>\n",
       "      <td>False</td>\n",
       "      <td>0.039135</td>\n",
       "    </tr>\n",
       "    <tr>\n",
       "      <th>19351</th>\n",
       "      <td>5580000.0</td>\n",
       "      <td>none</td>\n",
       "      <td>3.0</td>\n",
       "      <td>39000.0</td>\n",
       "      <td>386800.0</td>\n",
       "      <td>False</td>\n",
       "      <td>0.039135</td>\n",
       "    </tr>\n",
       "    <tr>\n",
       "      <th rowspan=\"2\" valign=\"top\">staple goods</th>\n",
       "      <th>15460</th>\n",
       "      <td>4780000.0</td>\n",
       "      <td>staple goods</td>\n",
       "      <td>4.0</td>\n",
       "      <td>38000.0</td>\n",
       "      <td>439100.0</td>\n",
       "      <td>False</td>\n",
       "      <td>0.052398</td>\n",
       "    </tr>\n",
       "    <tr>\n",
       "      <th>16712</th>\n",
       "      <td>5890000.0</td>\n",
       "      <td>staple goods</td>\n",
       "      <td>3.0</td>\n",
       "      <td>18000.0</td>\n",
       "      <td>462400.0</td>\n",
       "      <td>False</td>\n",
       "      <td>0.052398</td>\n",
       "    </tr>\n",
       "    <tr>\n",
       "      <th rowspan=\"12\" valign=\"top\">True</th>\n",
       "      <th rowspan=\"2\" valign=\"top\">electronics</th>\n",
       "      <th>10251</th>\n",
       "      <td>3590000.0</td>\n",
       "      <td>electronics</td>\n",
       "      <td>4.0</td>\n",
       "      <td>40000.0</td>\n",
       "      <td>290300.0</td>\n",
       "      <td>True</td>\n",
       "      <td>0.039785</td>\n",
       "    </tr>\n",
       "    <tr>\n",
       "      <th>8791</th>\n",
       "      <td>4060000.0</td>\n",
       "      <td>electronics</td>\n",
       "      <td>2.0</td>\n",
       "      <td>29000.0</td>\n",
       "      <td>405200.0</td>\n",
       "      <td>True</td>\n",
       "      <td>0.039785</td>\n",
       "    </tr>\n",
       "    <tr>\n",
       "      <th rowspan=\"2\" valign=\"top\">fashion</th>\n",
       "      <th>7497</th>\n",
       "      <td>4070000.0</td>\n",
       "      <td>fashion</td>\n",
       "      <td>5.0</td>\n",
       "      <td>40000.0</td>\n",
       "      <td>309600.0</td>\n",
       "      <td>True</td>\n",
       "      <td>0.041634</td>\n",
       "    </tr>\n",
       "    <tr>\n",
       "      <th>6533</th>\n",
       "      <td>4990000.0</td>\n",
       "      <td>fashion</td>\n",
       "      <td>1.0</td>\n",
       "      <td>38000.0</td>\n",
       "      <td>386800.0</td>\n",
       "      <td>True</td>\n",
       "      <td>0.041634</td>\n",
       "    </tr>\n",
       "    <tr>\n",
       "      <th rowspan=\"2\" valign=\"top\">metalworking</th>\n",
       "      <th>2182</th>\n",
       "      <td>7310000.0</td>\n",
       "      <td>metalworking</td>\n",
       "      <td>3.0</td>\n",
       "      <td>35000.0</td>\n",
       "      <td>611100.0</td>\n",
       "      <td>True</td>\n",
       "      <td>0.069179</td>\n",
       "    </tr>\n",
       "    <tr>\n",
       "      <th>3052</th>\n",
       "      <td>3260000.0</td>\n",
       "      <td>metalworking</td>\n",
       "      <td>1.0</td>\n",
       "      <td>25000.0</td>\n",
       "      <td>270700.0</td>\n",
       "      <td>True</td>\n",
       "      <td>0.069179</td>\n",
       "    </tr>\n",
       "    <tr>\n",
       "      <th rowspan=\"2\" valign=\"top\">mobile money</th>\n",
       "      <th>14507</th>\n",
       "      <td>5090000.0</td>\n",
       "      <td>mobile money</td>\n",
       "      <td>2.0</td>\n",
       "      <td>16000.0</td>\n",
       "      <td>411200.0</td>\n",
       "      <td>True</td>\n",
       "      <td>0.039695</td>\n",
       "    </tr>\n",
       "    <tr>\n",
       "      <th>14438</th>\n",
       "      <td>4060000.0</td>\n",
       "      <td>mobile money</td>\n",
       "      <td>1.0</td>\n",
       "      <td>26000.0</td>\n",
       "      <td>358200.0</td>\n",
       "      <td>True</td>\n",
       "      <td>0.039695</td>\n",
       "    </tr>\n",
       "    <tr>\n",
       "      <th rowspan=\"2\" valign=\"top\">none</th>\n",
       "      <th>19085</th>\n",
       "      <td>3800000.0</td>\n",
       "      <td>none</td>\n",
       "      <td>3.0</td>\n",
       "      <td>24000.0</td>\n",
       "      <td>294900.0</td>\n",
       "      <td>True</td>\n",
       "      <td>0.039135</td>\n",
       "    </tr>\n",
       "    <tr>\n",
       "      <th>19887</th>\n",
       "      <td>4430000.0</td>\n",
       "      <td>none</td>\n",
       "      <td>3.0</td>\n",
       "      <td>19000.0</td>\n",
       "      <td>341300.0</td>\n",
       "      <td>True</td>\n",
       "      <td>0.039135</td>\n",
       "    </tr>\n",
       "    <tr>\n",
       "      <th rowspan=\"2\" valign=\"top\">staple goods</th>\n",
       "      <th>16719</th>\n",
       "      <td>5550000.0</td>\n",
       "      <td>staple goods</td>\n",
       "      <td>1.0</td>\n",
       "      <td>32000.0</td>\n",
       "      <td>507100.0</td>\n",
       "      <td>True</td>\n",
       "      <td>0.052398</td>\n",
       "    </tr>\n",
       "    <tr>\n",
       "      <th>16859</th>\n",
       "      <td>3700000.0</td>\n",
       "      <td>staple goods</td>\n",
       "      <td>NaN</td>\n",
       "      <td>21000.0</td>\n",
       "      <td>404600.0</td>\n",
       "      <td>True</td>\n",
       "      <td>0.052398</td>\n",
       "    </tr>\n",
       "  </tbody>\n",
       "</table>\n",
       "</div>"
      ],
      "text/plain": [
       "                            monthly_income      industry  years_in_operation  \\\n",
       "default industry                                                               \n",
       "False   electronics  9428        4730000.0   electronics                 5.0   \n",
       "                     9142        4040000.0   electronics                 3.0   \n",
       "        fashion      5063        4250000.0       fashion                 3.0   \n",
       "                     7532        4450000.0       fashion                 1.0   \n",
       "        metalworking 1444        4390000.0  metalworking                 2.0   \n",
       "                     2959        3180000.0  metalworking                 4.0   \n",
       "        mobile money 13578       6100000.0  mobile money                 4.0   \n",
       "                     12781       7280000.0  mobile money                 3.0   \n",
       "        none         19145       7130000.0          none                 4.0   \n",
       "                     19351       5580000.0          none                 3.0   \n",
       "        staple goods 15460       4780000.0  staple goods                 4.0   \n",
       "                     16712       5890000.0  staple goods                 3.0   \n",
       "True    electronics  10251       3590000.0   electronics                 4.0   \n",
       "                     8791        4060000.0   electronics                 2.0   \n",
       "        fashion      7497        4070000.0       fashion                 5.0   \n",
       "                     6533        4990000.0       fashion                 1.0   \n",
       "        metalworking 2182        7310000.0  metalworking                 3.0   \n",
       "                     3052        3260000.0  metalworking                 1.0   \n",
       "        mobile money 14507       5090000.0  mobile money                 2.0   \n",
       "                     14438       4060000.0  mobile money                 1.0   \n",
       "        none         19085       3800000.0          none                 3.0   \n",
       "                     19887       4430000.0          none                 3.0   \n",
       "        staple goods 16719       5550000.0  staple goods                 1.0   \n",
       "                     16859       3700000.0  staple goods                 NaN   \n",
       "\n",
       "                            monthly_rent  principal  default  \\\n",
       "default industry                                               \n",
       "False   electronics  9428        38000.0   364900.0    False   \n",
       "                     9142        21000.0   328700.0    False   \n",
       "        fashion      5063        42000.0   360600.0    False   \n",
       "                     7532        40000.0   348000.0    False   \n",
       "        metalworking 1444        23000.0   331100.0    False   \n",
       "                     2959        17000.0   257800.0    False   \n",
       "        mobile money 13578       34000.0   609000.0    False   \n",
       "                     12781       43000.0   611200.0    False   \n",
       "        none         19145       39000.0   897600.0    False   \n",
       "                     19351       39000.0   386800.0    False   \n",
       "        staple goods 15460       38000.0   439100.0    False   \n",
       "                     16712       18000.0   462400.0    False   \n",
       "True    electronics  10251       40000.0   290300.0     True   \n",
       "                     8791        29000.0   405200.0     True   \n",
       "        fashion      7497        40000.0   309600.0     True   \n",
       "                     6533        38000.0   386800.0     True   \n",
       "        metalworking 2182        35000.0   611100.0     True   \n",
       "                     3052        25000.0   270700.0     True   \n",
       "        mobile money 14507       16000.0   411200.0     True   \n",
       "                     14438       26000.0   358200.0     True   \n",
       "        none         19085       24000.0   294900.0     True   \n",
       "                     19887       19000.0   341300.0     True   \n",
       "        staple goods 16719       32000.0   507100.0     True   \n",
       "                     16859       21000.0   404600.0     True   \n",
       "\n",
       "                            industry_default_rate  \n",
       "default industry                                   \n",
       "False   electronics  9428                0.039785  \n",
       "                     9142                0.039785  \n",
       "        fashion      5063                0.041634  \n",
       "                     7532                0.041634  \n",
       "        metalworking 1444                0.069179  \n",
       "                     2959                0.069179  \n",
       "        mobile money 13578               0.039695  \n",
       "                     12781               0.039695  \n",
       "        none         19145               0.039135  \n",
       "                     19351               0.039135  \n",
       "        staple goods 15460               0.052398  \n",
       "                     16712               0.052398  \n",
       "True    electronics  10251               0.039785  \n",
       "                     8791                0.039785  \n",
       "        fashion      7497                0.041634  \n",
       "                     6533                0.041634  \n",
       "        metalworking 2182                0.069179  \n",
       "                     3052                0.069179  \n",
       "        mobile money 14507               0.039695  \n",
       "                     14438               0.039695  \n",
       "        none         19085               0.039135  \n",
       "                     19887               0.039135  \n",
       "        staple goods 16719               0.052398  \n",
       "                     16859               0.052398  "
      ]
     },
     "execution_count": 39,
     "metadata": {},
     "output_type": "execute_result"
    }
   ],
   "source": [
    "sample = lending_inter.groupby(['default', 'industry']).apply(lambda x: x.sample(2))\n",
    "sample"
   ]
  },
  {
   "cell_type": "markdown",
   "id": "43c523fe",
   "metadata": {},
   "source": [
    "We will store this dataframe as our sample data and remove these observations from the original dataset."
   ]
  },
  {
   "cell_type": "code",
   "execution_count": 40,
   "id": "194488ab",
   "metadata": {},
   "outputs": [],
   "source": [
    "sample_indexes = list(pd.MultiIndex.from_arrays(sample.index)[2])"
   ]
  },
  {
   "cell_type": "code",
   "execution_count": 41,
   "id": "4336ed8b",
   "metadata": {
    "scrolled": true
   },
   "outputs": [
    {
     "data": {
      "text/html": [
       "<div>\n",
       "<style scoped>\n",
       "    .dataframe tbody tr th:only-of-type {\n",
       "        vertical-align: middle;\n",
       "    }\n",
       "\n",
       "    .dataframe tbody tr th {\n",
       "        vertical-align: top;\n",
       "    }\n",
       "\n",
       "    .dataframe thead th {\n",
       "        text-align: right;\n",
       "    }\n",
       "</style>\n",
       "<table border=\"1\" class=\"dataframe\">\n",
       "  <thead>\n",
       "    <tr style=\"text-align: right;\">\n",
       "      <th></th>\n",
       "      <th>monthly_income</th>\n",
       "      <th>industry</th>\n",
       "      <th>years_in_operation</th>\n",
       "      <th>monthly_rent</th>\n",
       "      <th>principal</th>\n",
       "      <th>default</th>\n",
       "      <th>industry_default_rate</th>\n",
       "    </tr>\n",
       "  </thead>\n",
       "  <tbody>\n",
       "    <tr>\n",
       "      <th>9428</th>\n",
       "      <td>4730000.0</td>\n",
       "      <td>electronics</td>\n",
       "      <td>5.0</td>\n",
       "      <td>38000.0</td>\n",
       "      <td>364900.0</td>\n",
       "      <td>False</td>\n",
       "      <td>0.039785</td>\n",
       "    </tr>\n",
       "    <tr>\n",
       "      <th>9142</th>\n",
       "      <td>4040000.0</td>\n",
       "      <td>electronics</td>\n",
       "      <td>3.0</td>\n",
       "      <td>21000.0</td>\n",
       "      <td>328700.0</td>\n",
       "      <td>False</td>\n",
       "      <td>0.039785</td>\n",
       "    </tr>\n",
       "    <tr>\n",
       "      <th>5063</th>\n",
       "      <td>4250000.0</td>\n",
       "      <td>fashion</td>\n",
       "      <td>3.0</td>\n",
       "      <td>42000.0</td>\n",
       "      <td>360600.0</td>\n",
       "      <td>False</td>\n",
       "      <td>0.041634</td>\n",
       "    </tr>\n",
       "    <tr>\n",
       "      <th>7532</th>\n",
       "      <td>4450000.0</td>\n",
       "      <td>fashion</td>\n",
       "      <td>1.0</td>\n",
       "      <td>40000.0</td>\n",
       "      <td>348000.0</td>\n",
       "      <td>False</td>\n",
       "      <td>0.041634</td>\n",
       "    </tr>\n",
       "    <tr>\n",
       "      <th>1444</th>\n",
       "      <td>4390000.0</td>\n",
       "      <td>metalworking</td>\n",
       "      <td>2.0</td>\n",
       "      <td>23000.0</td>\n",
       "      <td>331100.0</td>\n",
       "      <td>False</td>\n",
       "      <td>0.069179</td>\n",
       "    </tr>\n",
       "  </tbody>\n",
       "</table>\n",
       "</div>"
      ],
      "text/plain": [
       "      monthly_income      industry  years_in_operation  monthly_rent  \\\n",
       "9428       4730000.0   electronics                 5.0       38000.0   \n",
       "9142       4040000.0   electronics                 3.0       21000.0   \n",
       "5063       4250000.0       fashion                 3.0       42000.0   \n",
       "7532       4450000.0       fashion                 1.0       40000.0   \n",
       "1444       4390000.0  metalworking                 2.0       23000.0   \n",
       "\n",
       "      principal  default  industry_default_rate  \n",
       "9428   364900.0    False               0.039785  \n",
       "9142   328700.0    False               0.039785  \n",
       "5063   360600.0    False               0.041634  \n",
       "7532   348000.0    False               0.041634  \n",
       "1444   331100.0    False               0.069179  "
      ]
     },
     "execution_count": 41,
     "metadata": {},
     "output_type": "execute_result"
    }
   ],
   "source": [
    "sample_final = lending_inter.iloc[sample_indexes]\n",
    "sample_final.head()"
   ]
  },
  {
   "cell_type": "code",
   "execution_count": 42,
   "id": "40dd8618",
   "metadata": {},
   "outputs": [],
   "source": [
    "mask_sample_indexes = lending_inter.index.isin(sample_indexes)\n",
    "lending_inter_2 = lending_inter[~mask_sample_indexes]"
   ]
  },
  {
   "cell_type": "code",
   "execution_count": 43,
   "id": "9985996e",
   "metadata": {},
   "outputs": [
    {
     "data": {
      "text/html": [
       "<div>\n",
       "<style scoped>\n",
       "    .dataframe tbody tr th:only-of-type {\n",
       "        vertical-align: middle;\n",
       "    }\n",
       "\n",
       "    .dataframe tbody tr th {\n",
       "        vertical-align: top;\n",
       "    }\n",
       "\n",
       "    .dataframe thead th {\n",
       "        text-align: right;\n",
       "    }\n",
       "</style>\n",
       "<table border=\"1\" class=\"dataframe\">\n",
       "  <thead>\n",
       "    <tr style=\"text-align: right;\">\n",
       "      <th></th>\n",
       "      <th>monthly_income</th>\n",
       "      <th>industry</th>\n",
       "      <th>years_in_operation</th>\n",
       "      <th>monthly_rent</th>\n",
       "      <th>principal</th>\n",
       "      <th>default</th>\n",
       "      <th>industry_default_rate</th>\n",
       "    </tr>\n",
       "  </thead>\n",
       "  <tbody>\n",
       "    <tr>\n",
       "      <th>0</th>\n",
       "      <td>4510000.0</td>\n",
       "      <td>metalworking</td>\n",
       "      <td>3.0</td>\n",
       "      <td>30000.0</td>\n",
       "      <td>359900.0</td>\n",
       "      <td>False</td>\n",
       "      <td>0.069179</td>\n",
       "    </tr>\n",
       "    <tr>\n",
       "      <th>1</th>\n",
       "      <td>3950000.0</td>\n",
       "      <td>metalworking</td>\n",
       "      <td>4.0</td>\n",
       "      <td>26000.0</td>\n",
       "      <td>381000.0</td>\n",
       "      <td>False</td>\n",
       "      <td>0.069179</td>\n",
       "    </tr>\n",
       "    <tr>\n",
       "      <th>2</th>\n",
       "      <td>3800000.0</td>\n",
       "      <td>metalworking</td>\n",
       "      <td>3.0</td>\n",
       "      <td>35000.0</td>\n",
       "      <td>375000.0</td>\n",
       "      <td>False</td>\n",
       "      <td>0.069179</td>\n",
       "    </tr>\n",
       "    <tr>\n",
       "      <th>3</th>\n",
       "      <td>5130000.0</td>\n",
       "      <td>metalworking</td>\n",
       "      <td>5.0</td>\n",
       "      <td>42000.0</td>\n",
       "      <td>548300.0</td>\n",
       "      <td>True</td>\n",
       "      <td>0.069179</td>\n",
       "    </tr>\n",
       "    <tr>\n",
       "      <th>4</th>\n",
       "      <td>4130000.0</td>\n",
       "      <td>metalworking</td>\n",
       "      <td>4.0</td>\n",
       "      <td>45000.0</td>\n",
       "      <td>410400.0</td>\n",
       "      <td>False</td>\n",
       "      <td>0.069179</td>\n",
       "    </tr>\n",
       "  </tbody>\n",
       "</table>\n",
       "</div>"
      ],
      "text/plain": [
       "   monthly_income      industry  years_in_operation  monthly_rent  principal  \\\n",
       "0       4510000.0  metalworking                 3.0       30000.0   359900.0   \n",
       "1       3950000.0  metalworking                 4.0       26000.0   381000.0   \n",
       "2       3800000.0  metalworking                 3.0       35000.0   375000.0   \n",
       "3       5130000.0  metalworking                 5.0       42000.0   548300.0   \n",
       "4       4130000.0  metalworking                 4.0       45000.0   410400.0   \n",
       "\n",
       "   default  industry_default_rate  \n",
       "0    False               0.069179  \n",
       "1    False               0.069179  \n",
       "2    False               0.069179  \n",
       "3     True               0.069179  \n",
       "4    False               0.069179  "
      ]
     },
     "execution_count": 43,
     "metadata": {},
     "output_type": "execute_result"
    }
   ],
   "source": [
    "lending_inter_2.head()"
   ]
  },
  {
   "cell_type": "markdown",
   "id": "5cd707ed",
   "metadata": {},
   "source": [
    "Encoding categorical features and storing the default status separately"
   ]
  },
  {
   "cell_type": "code",
   "execution_count": 44,
   "id": "a8d5a9b5",
   "metadata": {},
   "outputs": [
    {
     "name": "stderr",
     "output_type": "stream",
     "text": [
      "C:\\Users\\zebin\\anaconda3\\lib\\site-packages\\pandas\\core\\indexing.py:1676: SettingWithCopyWarning: \n",
      "A value is trying to be set on a copy of a slice from a DataFrame.\n",
      "Try using .loc[row_indexer,col_indexer] = value instead\n",
      "\n",
      "See the caveats in the documentation: https://pandas.pydata.org/pandas-docs/stable/user_guide/indexing.html#returning-a-view-versus-a-copy\n",
      "  self._setitem_single_column(ilocs[0], value, pi)\n"
     ]
    }
   ],
   "source": [
    "lending_inter_2.loc[:, 'default'] = lending_inter_2.loc[:, 'default'].astype(int)"
   ]
  },
  {
   "cell_type": "code",
   "execution_count": 45,
   "id": "ebb8afa9",
   "metadata": {
    "scrolled": true
   },
   "outputs": [
    {
     "data": {
      "text/plain": [
       "0    19024\n",
       "1      952\n",
       "Name: default, dtype: int64"
      ]
     },
     "execution_count": 45,
     "metadata": {},
     "output_type": "execute_result"
    }
   ],
   "source": [
    "lending_inter_2.default.value_counts()"
   ]
  },
  {
   "cell_type": "markdown",
   "id": "b2b39424",
   "metadata": {},
   "source": [
    "Encoding categorical data"
   ]
  },
  {
   "cell_type": "code",
   "execution_count": 46,
   "id": "0f0d5a02",
   "metadata": {},
   "outputs": [
    {
     "data": {
      "text/html": [
       "<div>\n",
       "<style scoped>\n",
       "    .dataframe tbody tr th:only-of-type {\n",
       "        vertical-align: middle;\n",
       "    }\n",
       "\n",
       "    .dataframe tbody tr th {\n",
       "        vertical-align: top;\n",
       "    }\n",
       "\n",
       "    .dataframe thead th {\n",
       "        text-align: right;\n",
       "    }\n",
       "</style>\n",
       "<table border=\"1\" class=\"dataframe\">\n",
       "  <thead>\n",
       "    <tr style=\"text-align: right;\">\n",
       "      <th></th>\n",
       "      <th>monthly_income</th>\n",
       "      <th>years_in_operation</th>\n",
       "      <th>monthly_rent</th>\n",
       "      <th>principal</th>\n",
       "      <th>default</th>\n",
       "      <th>industry_default_rate</th>\n",
       "      <th>industry_fashion</th>\n",
       "      <th>industry_metalworking</th>\n",
       "      <th>industry_mobile money</th>\n",
       "      <th>industry_none</th>\n",
       "      <th>industry_staple goods</th>\n",
       "    </tr>\n",
       "  </thead>\n",
       "  <tbody>\n",
       "    <tr>\n",
       "      <th>0</th>\n",
       "      <td>4510000.0</td>\n",
       "      <td>3.0</td>\n",
       "      <td>30000.0</td>\n",
       "      <td>359900.0</td>\n",
       "      <td>0</td>\n",
       "      <td>0.069179</td>\n",
       "      <td>0</td>\n",
       "      <td>1</td>\n",
       "      <td>0</td>\n",
       "      <td>0</td>\n",
       "      <td>0</td>\n",
       "    </tr>\n",
       "    <tr>\n",
       "      <th>1</th>\n",
       "      <td>3950000.0</td>\n",
       "      <td>4.0</td>\n",
       "      <td>26000.0</td>\n",
       "      <td>381000.0</td>\n",
       "      <td>0</td>\n",
       "      <td>0.069179</td>\n",
       "      <td>0</td>\n",
       "      <td>1</td>\n",
       "      <td>0</td>\n",
       "      <td>0</td>\n",
       "      <td>0</td>\n",
       "    </tr>\n",
       "    <tr>\n",
       "      <th>2</th>\n",
       "      <td>3800000.0</td>\n",
       "      <td>3.0</td>\n",
       "      <td>35000.0</td>\n",
       "      <td>375000.0</td>\n",
       "      <td>0</td>\n",
       "      <td>0.069179</td>\n",
       "      <td>0</td>\n",
       "      <td>1</td>\n",
       "      <td>0</td>\n",
       "      <td>0</td>\n",
       "      <td>0</td>\n",
       "    </tr>\n",
       "    <tr>\n",
       "      <th>3</th>\n",
       "      <td>5130000.0</td>\n",
       "      <td>5.0</td>\n",
       "      <td>42000.0</td>\n",
       "      <td>548300.0</td>\n",
       "      <td>1</td>\n",
       "      <td>0.069179</td>\n",
       "      <td>0</td>\n",
       "      <td>1</td>\n",
       "      <td>0</td>\n",
       "      <td>0</td>\n",
       "      <td>0</td>\n",
       "    </tr>\n",
       "    <tr>\n",
       "      <th>4</th>\n",
       "      <td>4130000.0</td>\n",
       "      <td>4.0</td>\n",
       "      <td>45000.0</td>\n",
       "      <td>410400.0</td>\n",
       "      <td>0</td>\n",
       "      <td>0.069179</td>\n",
       "      <td>0</td>\n",
       "      <td>1</td>\n",
       "      <td>0</td>\n",
       "      <td>0</td>\n",
       "      <td>0</td>\n",
       "    </tr>\n",
       "  </tbody>\n",
       "</table>\n",
       "</div>"
      ],
      "text/plain": [
       "   monthly_income  years_in_operation  monthly_rent  principal  default  \\\n",
       "0       4510000.0                 3.0       30000.0   359900.0        0   \n",
       "1       3950000.0                 4.0       26000.0   381000.0        0   \n",
       "2       3800000.0                 3.0       35000.0   375000.0        0   \n",
       "3       5130000.0                 5.0       42000.0   548300.0        1   \n",
       "4       4130000.0                 4.0       45000.0   410400.0        0   \n",
       "\n",
       "   industry_default_rate  industry_fashion  industry_metalworking  \\\n",
       "0               0.069179                 0                      1   \n",
       "1               0.069179                 0                      1   \n",
       "2               0.069179                 0                      1   \n",
       "3               0.069179                 0                      1   \n",
       "4               0.069179                 0                      1   \n",
       "\n",
       "   industry_mobile money  industry_none  industry_staple goods  \n",
       "0                      0              0                      0  \n",
       "1                      0              0                      0  \n",
       "2                      0              0                      0  \n",
       "3                      0              0                      0  \n",
       "4                      0              0                      0  "
      ]
     },
     "execution_count": 46,
     "metadata": {},
     "output_type": "execute_result"
    }
   ],
   "source": [
    "lending_modelling = pd.get_dummies(lending_inter_2, drop_first = True)\n",
    "lending_modelling.head()"
   ]
  },
  {
   "cell_type": "markdown",
   "id": "0cca5d2f",
   "metadata": {},
   "source": [
    "Replace missing values of years_in_operation with the mean"
   ]
  },
  {
   "cell_type": "code",
   "execution_count": 47,
   "id": "1f0fa9be",
   "metadata": {},
   "outputs": [
    {
     "data": {
      "text/plain": [
       "0"
      ]
     },
     "execution_count": 47,
     "metadata": {},
     "output_type": "execute_result"
    }
   ],
   "source": [
    "mean_years = lending_modelling.years_in_operation.mean()\n",
    "lending_modelling.loc[lending_modelling.years_in_operation.isnull(), 'years_in_operation'] = mean_years\n",
    "lending_modelling.years_in_operation.isnull().sum()"
   ]
  },
  {
   "cell_type": "code",
   "execution_count": 48,
   "id": "17500735",
   "metadata": {},
   "outputs": [
    {
     "data": {
      "text/plain": [
       "Index(['monthly_income', 'years_in_operation', 'monthly_rent', 'principal',\n",
       "       'industry_default_rate', 'industry_fashion', 'industry_metalworking',\n",
       "       'industry_mobile money', 'industry_none', 'industry_staple goods'],\n",
       "      dtype='object')"
      ]
     },
     "execution_count": 48,
     "metadata": {},
     "output_type": "execute_result"
    }
   ],
   "source": [
    "X = lending_modelling.drop(columns = ['default'])\n",
    "y = lending_modelling.default\n",
    "X_features = X.columns\n",
    "X_features"
   ]
  },
  {
   "cell_type": "markdown",
   "id": "75dee714",
   "metadata": {},
   "source": [
    "Scaling the features"
   ]
  },
  {
   "cell_type": "code",
   "execution_count": 49,
   "id": "35e56d10",
   "metadata": {},
   "outputs": [],
   "source": [
    "scaler = StandardScaler(with_mean = False)\n",
    "X_scaled = scaler.fit_transform(X)"
   ]
  },
  {
   "cell_type": "markdown",
   "id": "52e122ce",
   "metadata": {},
   "source": [
    "# Create Train-Test Split "
   ]
  },
  {
   "cell_type": "code",
   "execution_count": 50,
   "id": "2f88d335",
   "metadata": {},
   "outputs": [],
   "source": [
    "#Split X and y to test and training set\n",
    "X_train, X_test, y_train, y_test = train_test_split(X_scaled, y, test_size = 0.3, stratify = y, random_state = 77)"
   ]
  },
  {
   "cell_type": "code",
   "execution_count": 51,
   "id": "047a8aa4",
   "metadata": {},
   "outputs": [
    {
     "data": {
      "text/plain": [
       "((13983, 10), (5993, 10))"
      ]
     },
     "execution_count": 51,
     "metadata": {},
     "output_type": "execute_result"
    }
   ],
   "source": [
    "X_train.shape, X_test.shape"
   ]
  },
  {
   "cell_type": "code",
   "execution_count": 52,
   "id": "f3047296",
   "metadata": {},
   "outputs": [
    {
     "data": {
      "text/plain": [
       "((13983,), (5993,))"
      ]
     },
     "execution_count": 52,
     "metadata": {},
     "output_type": "execute_result"
    }
   ],
   "source": [
    "y_train.shape, y_test.shape"
   ]
  },
  {
   "cell_type": "code",
   "execution_count": 53,
   "id": "b9adc1a2",
   "metadata": {
    "scrolled": true
   },
   "outputs": [
    {
     "data": {
      "text/plain": [
       "0    0.952371\n",
       "1    0.047629\n",
       "Name: default, dtype: float64"
      ]
     },
     "execution_count": 53,
     "metadata": {},
     "output_type": "execute_result"
    }
   ],
   "source": [
    "y_train.value_counts(normalize = True)"
   ]
  },
  {
   "cell_type": "code",
   "execution_count": 54,
   "id": "3f78c391",
   "metadata": {
    "scrolled": false
   },
   "outputs": [
    {
     "data": {
      "text/plain": [
       "0    0.952278\n",
       "1    0.047722\n",
       "Name: default, dtype: float64"
      ]
     },
     "execution_count": 54,
     "metadata": {},
     "output_type": "execute_result"
    }
   ],
   "source": [
    "y_test.value_counts(normalize = True)"
   ]
  },
  {
   "cell_type": "markdown",
   "id": "02f83248",
   "metadata": {},
   "source": [
    "# Baseline Model "
   ]
  },
  {
   "cell_type": "code",
   "execution_count": 55,
   "id": "39498da7",
   "metadata": {},
   "outputs": [],
   "source": [
    "logreg = LogisticRegression(penalty = 'none', class_weight = {1: 95, 0: 5}, random_state = 77)"
   ]
  },
  {
   "cell_type": "code",
   "execution_count": 56,
   "id": "fbedfe4a",
   "metadata": {},
   "outputs": [],
   "source": [
    "logreg.fit(X_train, y_train);"
   ]
  },
  {
   "cell_type": "code",
   "execution_count": 57,
   "id": "bb8d2824",
   "metadata": {},
   "outputs": [],
   "source": [
    "y_pred = logreg.predict(X_test)"
   ]
  },
  {
   "cell_type": "code",
   "execution_count": 58,
   "id": "63aab829",
   "metadata": {
    "scrolled": true
   },
   "outputs": [],
   "source": [
    "y_pred_prob_logreg = logreg.predict_proba(X_test)[:,1]"
   ]
  },
  {
   "cell_type": "code",
   "execution_count": 59,
   "id": "f5340ae1",
   "metadata": {
    "scrolled": true
   },
   "outputs": [
    {
     "data": {
      "image/png": "[encoded data removed]",
      "text/plain": [
       "<Figure size 432x288 with 1 Axes>"
      ]
     },
     "metadata": {
      "needs_background": "light"
     },
     "output_type": "display_data"
    }
   ],
   "source": [
    "pd.DataFrame(y_pred_prob_logreg, columns = ['probabilities']).plot(kind = 'hist')\n",
    "plt.axvline(0.05, c = 'red');"
   ]
  },
  {
   "cell_type": "markdown",
   "id": "7e318442",
   "metadata": {},
   "source": [
    "Model Assessment"
   ]
  },
  {
   "cell_type": "code",
   "execution_count": 60,
   "id": "cc81ff0c",
   "metadata": {
    "scrolled": true
   },
   "outputs": [
    {
     "data": {
      "text/plain": [
       "array([[3850, 1857],\n",
       "       [ 167,  119]], dtype=int64)"
      ]
     },
     "execution_count": 60,
     "metadata": {},
     "output_type": "execute_result"
    }
   ],
   "source": [
    "confusion_matrix(y_test, y_pred)"
   ]
  },
  {
   "cell_type": "code",
   "execution_count": 61,
   "id": "d8a29a50",
   "metadata": {
    "scrolled": true
   },
   "outputs": [
    {
     "name": "stdout",
     "output_type": "stream",
     "text": [
      "              precision    recall  f1-score   support\n",
      "\n",
      "           0       0.96      0.67      0.79      5707\n",
      "           1       0.06      0.42      0.11       286\n",
      "\n",
      "    accuracy                           0.66      5993\n",
      "   macro avg       0.51      0.55      0.45      5993\n",
      "weighted avg       0.92      0.66      0.76      5993\n",
      "\n"
     ]
    }
   ],
   "source": [
    "print(classification_report(y_test, y_pred))"
   ]
  },
  {
   "cell_type": "code",
   "execution_count": 62,
   "id": "ea48b377",
   "metadata": {
    "scrolled": true
   },
   "outputs": [
    {
     "data": {
      "text/plain": [
       "0.05792001400755922"
      ]
     },
     "execution_count": 62,
     "metadata": {},
     "output_type": "execute_result"
    }
   ],
   "source": [
    "average_precision_score(y_test, y_pred_prob_logreg)"
   ]
  },
  {
   "cell_type": "markdown",
   "id": "43f5645a",
   "metadata": {},
   "source": [
    "Precision - Recall curve"
   ]
  },
  {
   "cell_type": "code",
   "execution_count": 63,
   "id": "d5f07902",
   "metadata": {},
   "outputs": [
    {
     "data": {
      "image/png": "[encoded data removed]",
      "text/plain": [
       "<Figure size 720x360 with 1 Axes>"
      ]
     },
     "metadata": {
      "needs_background": "light"
     },
     "output_type": "display_data"
    }
   ],
   "source": [
    "precision, recall, thresholds = precision_recall_curve(y_test, y_pred_prob_logreg) \n",
    "plt.figure(figsize = (10, 5))\n",
    "plt.title(f'Precision versus Recall of logreg model')\n",
    "plt.plot(recall, precision, marker = '.', label = 'logreg', zorder = -1)\n",
    "plt.xlabel('Recall')\n",
    "plt.ylabel('Precision')\n",
    "plt.legend()\n",
    "plt.show()"
   ]
  },
  {
   "cell_type": "markdown",
   "id": "1cdebd30",
   "metadata": {},
   "source": [
    "Applying model to sample"
   ]
  },
  {
   "cell_type": "code",
   "execution_count": 64,
   "id": "268352ae",
   "metadata": {},
   "outputs": [
    {
     "data": {
      "text/html": [
       "<div>\n",
       "<style scoped>\n",
       "    .dataframe tbody tr th:only-of-type {\n",
       "        vertical-align: middle;\n",
       "    }\n",
       "\n",
       "    .dataframe tbody tr th {\n",
       "        vertical-align: top;\n",
       "    }\n",
       "\n",
       "    .dataframe thead th {\n",
       "        text-align: right;\n",
       "    }\n",
       "</style>\n",
       "<table border=\"1\" class=\"dataframe\">\n",
       "  <thead>\n",
       "    <tr style=\"text-align: right;\">\n",
       "      <th></th>\n",
       "      <th>monthly_income</th>\n",
       "      <th>industry</th>\n",
       "      <th>years_in_operation</th>\n",
       "      <th>monthly_rent</th>\n",
       "      <th>principal</th>\n",
       "      <th>default</th>\n",
       "      <th>industry_default_rate</th>\n",
       "    </tr>\n",
       "  </thead>\n",
       "  <tbody>\n",
       "    <tr>\n",
       "      <th>9428</th>\n",
       "      <td>4730000.0</td>\n",
       "      <td>electronics</td>\n",
       "      <td>5.0</td>\n",
       "      <td>38000.0</td>\n",
       "      <td>364900.0</td>\n",
       "      <td>False</td>\n",
       "      <td>0.039785</td>\n",
       "    </tr>\n",
       "    <tr>\n",
       "      <th>9142</th>\n",
       "      <td>4040000.0</td>\n",
       "      <td>electronics</td>\n",
       "      <td>3.0</td>\n",
       "      <td>21000.0</td>\n",
       "      <td>328700.0</td>\n",
       "      <td>False</td>\n",
       "      <td>0.039785</td>\n",
       "    </tr>\n",
       "    <tr>\n",
       "      <th>5063</th>\n",
       "      <td>4250000.0</td>\n",
       "      <td>fashion</td>\n",
       "      <td>3.0</td>\n",
       "      <td>42000.0</td>\n",
       "      <td>360600.0</td>\n",
       "      <td>False</td>\n",
       "      <td>0.041634</td>\n",
       "    </tr>\n",
       "    <tr>\n",
       "      <th>7532</th>\n",
       "      <td>4450000.0</td>\n",
       "      <td>fashion</td>\n",
       "      <td>1.0</td>\n",
       "      <td>40000.0</td>\n",
       "      <td>348000.0</td>\n",
       "      <td>False</td>\n",
       "      <td>0.041634</td>\n",
       "    </tr>\n",
       "    <tr>\n",
       "      <th>1444</th>\n",
       "      <td>4390000.0</td>\n",
       "      <td>metalworking</td>\n",
       "      <td>2.0</td>\n",
       "      <td>23000.0</td>\n",
       "      <td>331100.0</td>\n",
       "      <td>False</td>\n",
       "      <td>0.069179</td>\n",
       "    </tr>\n",
       "  </tbody>\n",
       "</table>\n",
       "</div>"
      ],
      "text/plain": [
       "      monthly_income      industry  years_in_operation  monthly_rent  \\\n",
       "9428       4730000.0   electronics                 5.0       38000.0   \n",
       "9142       4040000.0   electronics                 3.0       21000.0   \n",
       "5063       4250000.0       fashion                 3.0       42000.0   \n",
       "7532       4450000.0       fashion                 1.0       40000.0   \n",
       "1444       4390000.0  metalworking                 2.0       23000.0   \n",
       "\n",
       "      principal  default  industry_default_rate  \n",
       "9428   364900.0    False               0.039785  \n",
       "9142   328700.0    False               0.039785  \n",
       "5063   360600.0    False               0.041634  \n",
       "7532   348000.0    False               0.041634  \n",
       "1444   331100.0    False               0.069179  "
      ]
     },
     "execution_count": 64,
     "metadata": {},
     "output_type": "execute_result"
    }
   ],
   "source": [
    "sample_final.head()"
   ]
  },
  {
   "cell_type": "markdown",
   "id": "fcacf477",
   "metadata": {},
   "source": [
    "Pre-processing the sample"
   ]
  },
  {
   "cell_type": "code",
   "execution_count": 65,
   "id": "6812924f",
   "metadata": {},
   "outputs": [
    {
     "data": {
      "text/plain": [
       "0"
      ]
     },
     "execution_count": 65,
     "metadata": {},
     "output_type": "execute_result"
    }
   ],
   "source": [
    "sample_modelling = pd.get_dummies(sample_final, drop_first = True)\n",
    "sample_modelling.loc[sample_modelling.years_in_operation.isnull(), 'years_in_operation'] = mean_years\n",
    "sample_modelling.years_in_operation.isnull().sum()"
   ]
  },
  {
   "cell_type": "code",
   "execution_count": 66,
   "id": "7aad5402",
   "metadata": {},
   "outputs": [
    {
     "data": {
      "text/plain": [
       "Index(['monthly_income', 'years_in_operation', 'monthly_rent', 'principal',\n",
       "       'industry_default_rate', 'industry_fashion', 'industry_metalworking',\n",
       "       'industry_mobile money', 'industry_none', 'industry_staple goods'],\n",
       "      dtype='object')"
      ]
     },
     "execution_count": 66,
     "metadata": {},
     "output_type": "execute_result"
    }
   ],
   "source": [
    "X_sample = sample_modelling.drop(columns = ['default'])\n",
    "y = sample_modelling.default\n",
    "X_sample_features = X_sample.columns\n",
    "X_sample_features"
   ]
  },
  {
   "cell_type": "code",
   "execution_count": 67,
   "id": "cd861ea1",
   "metadata": {},
   "outputs": [],
   "source": [
    "sample_scaler = StandardScaler(with_mean = False)\n",
    "X_sample_scaled = sample_scaler.fit_transform(X_sample)"
   ]
  },
  {
   "cell_type": "code",
   "execution_count": 68,
   "id": "761f22a9",
   "metadata": {},
   "outputs": [],
   "source": [
    "y_pred_prob_sample = logreg.predict_proba(X_sample_scaled)[:,1]"
   ]
  },
  {
   "cell_type": "code",
   "execution_count": 69,
   "id": "98892eb5",
   "metadata": {},
   "outputs": [
    {
     "name": "stderr",
     "output_type": "stream",
     "text": [
      "C:\\Users\\zebin\\anaconda3\\lib\\site-packages\\pandas\\core\\indexing.py:1597: SettingWithCopyWarning: \n",
      "A value is trying to be set on a copy of a slice from a DataFrame.\n",
      "Try using .loc[row_indexer,col_indexer] = value instead\n",
      "\n",
      "See the caveats in the documentation: https://pandas.pydata.org/pandas-docs/stable/user_guide/indexing.html#returning-a-view-versus-a-copy\n",
      "  self.obj[key] = value\n",
      "C:\\Users\\zebin\\anaconda3\\lib\\site-packages\\pandas\\core\\indexing.py:1676: SettingWithCopyWarning: \n",
      "A value is trying to be set on a copy of a slice from a DataFrame.\n",
      "Try using .loc[row_indexer,col_indexer] = value instead\n",
      "\n",
      "See the caveats in the documentation: https://pandas.pydata.org/pandas-docs/stable/user_guide/indexing.html#returning-a-view-versus-a-copy\n",
      "  self._setitem_single_column(ilocs[0], value, pi)\n"
     ]
    }
   ],
   "source": [
    "sample_final.loc[:, 'probabilities'] = y_pred_prob_sample"
   ]
  },
  {
   "cell_type": "code",
   "execution_count": 70,
   "id": "18268c29",
   "metadata": {
    "scrolled": false
   },
   "outputs": [
    {
     "data": {
      "text/html": [
       "<div>\n",
       "<style scoped>\n",
       "    .dataframe tbody tr th:only-of-type {\n",
       "        vertical-align: middle;\n",
       "    }\n",
       "\n",
       "    .dataframe tbody tr th {\n",
       "        vertical-align: top;\n",
       "    }\n",
       "\n",
       "    .dataframe thead th {\n",
       "        text-align: right;\n",
       "    }\n",
       "</style>\n",
       "<table border=\"1\" class=\"dataframe\">\n",
       "  <thead>\n",
       "    <tr style=\"text-align: right;\">\n",
       "      <th></th>\n",
       "      <th>monthly_income</th>\n",
       "      <th>industry</th>\n",
       "      <th>years_in_operation</th>\n",
       "      <th>monthly_rent</th>\n",
       "      <th>principal</th>\n",
       "      <th>default</th>\n",
       "      <th>industry_default_rate</th>\n",
       "      <th>probabilities</th>\n",
       "    </tr>\n",
       "  </thead>\n",
       "  <tbody>\n",
       "    <tr>\n",
       "      <th>10251</th>\n",
       "      <td>3590000.0</td>\n",
       "      <td>electronics</td>\n",
       "      <td>4.0</td>\n",
       "      <td>40000.0</td>\n",
       "      <td>290300.0</td>\n",
       "      <td>True</td>\n",
       "      <td>0.039785</td>\n",
       "      <td>0.326263</td>\n",
       "    </tr>\n",
       "    <tr>\n",
       "      <th>8791</th>\n",
       "      <td>4060000.0</td>\n",
       "      <td>electronics</td>\n",
       "      <td>2.0</td>\n",
       "      <td>29000.0</td>\n",
       "      <td>405200.0</td>\n",
       "      <td>True</td>\n",
       "      <td>0.039785</td>\n",
       "      <td>0.403674</td>\n",
       "    </tr>\n",
       "    <tr>\n",
       "      <th>7497</th>\n",
       "      <td>4070000.0</td>\n",
       "      <td>fashion</td>\n",
       "      <td>5.0</td>\n",
       "      <td>40000.0</td>\n",
       "      <td>309600.0</td>\n",
       "      <td>True</td>\n",
       "      <td>0.041634</td>\n",
       "      <td>0.352235</td>\n",
       "    </tr>\n",
       "    <tr>\n",
       "      <th>6533</th>\n",
       "      <td>4990000.0</td>\n",
       "      <td>fashion</td>\n",
       "      <td>1.0</td>\n",
       "      <td>38000.0</td>\n",
       "      <td>386800.0</td>\n",
       "      <td>True</td>\n",
       "      <td>0.041634</td>\n",
       "      <td>0.426651</td>\n",
       "    </tr>\n",
       "    <tr>\n",
       "      <th>2182</th>\n",
       "      <td>7310000.0</td>\n",
       "      <td>metalworking</td>\n",
       "      <td>3.0</td>\n",
       "      <td>35000.0</td>\n",
       "      <td>611100.0</td>\n",
       "      <td>True</td>\n",
       "      <td>0.069179</td>\n",
       "      <td>0.537549</td>\n",
       "    </tr>\n",
       "    <tr>\n",
       "      <th>3052</th>\n",
       "      <td>3260000.0</td>\n",
       "      <td>metalworking</td>\n",
       "      <td>1.0</td>\n",
       "      <td>25000.0</td>\n",
       "      <td>270700.0</td>\n",
       "      <td>True</td>\n",
       "      <td>0.069179</td>\n",
       "      <td>0.595874</td>\n",
       "    </tr>\n",
       "    <tr>\n",
       "      <th>14507</th>\n",
       "      <td>5090000.0</td>\n",
       "      <td>mobile money</td>\n",
       "      <td>2.0</td>\n",
       "      <td>16000.0</td>\n",
       "      <td>411200.0</td>\n",
       "      <td>True</td>\n",
       "      <td>0.039695</td>\n",
       "      <td>0.402958</td>\n",
       "    </tr>\n",
       "    <tr>\n",
       "      <th>14438</th>\n",
       "      <td>4060000.0</td>\n",
       "      <td>mobile money</td>\n",
       "      <td>1.0</td>\n",
       "      <td>26000.0</td>\n",
       "      <td>358200.0</td>\n",
       "      <td>True</td>\n",
       "      <td>0.039695</td>\n",
       "      <td>0.437895</td>\n",
       "    </tr>\n",
       "    <tr>\n",
       "      <th>19085</th>\n",
       "      <td>3800000.0</td>\n",
       "      <td>none</td>\n",
       "      <td>3.0</td>\n",
       "      <td>24000.0</td>\n",
       "      <td>294900.0</td>\n",
       "      <td>True</td>\n",
       "      <td>0.039135</td>\n",
       "      <td>0.339442</td>\n",
       "    </tr>\n",
       "    <tr>\n",
       "      <th>19887</th>\n",
       "      <td>4430000.0</td>\n",
       "      <td>none</td>\n",
       "      <td>3.0</td>\n",
       "      <td>19000.0</td>\n",
       "      <td>341300.0</td>\n",
       "      <td>True</td>\n",
       "      <td>0.039135</td>\n",
       "      <td>0.336824</td>\n",
       "    </tr>\n",
       "    <tr>\n",
       "      <th>16719</th>\n",
       "      <td>5550000.0</td>\n",
       "      <td>staple goods</td>\n",
       "      <td>1.0</td>\n",
       "      <td>32000.0</td>\n",
       "      <td>507100.0</td>\n",
       "      <td>True</td>\n",
       "      <td>0.052398</td>\n",
       "      <td>0.504345</td>\n",
       "    </tr>\n",
       "    <tr>\n",
       "      <th>16859</th>\n",
       "      <td>3700000.0</td>\n",
       "      <td>staple goods</td>\n",
       "      <td>NaN</td>\n",
       "      <td>21000.0</td>\n",
       "      <td>404600.0</td>\n",
       "      <td>True</td>\n",
       "      <td>0.052398</td>\n",
       "      <td>0.503705</td>\n",
       "    </tr>\n",
       "  </tbody>\n",
       "</table>\n",
       "</div>"
      ],
      "text/plain": [
       "       monthly_income      industry  years_in_operation  monthly_rent  \\\n",
       "10251       3590000.0   electronics                 4.0       40000.0   \n",
       "8791        4060000.0   electronics                 2.0       29000.0   \n",
       "7497        4070000.0       fashion                 5.0       40000.0   \n",
       "6533        4990000.0       fashion                 1.0       38000.0   \n",
       "2182        7310000.0  metalworking                 3.0       35000.0   \n",
       "3052        3260000.0  metalworking                 1.0       25000.0   \n",
       "14507       5090000.0  mobile money                 2.0       16000.0   \n",
       "14438       4060000.0  mobile money                 1.0       26000.0   \n",
       "19085       3800000.0          none                 3.0       24000.0   \n",
       "19887       4430000.0          none                 3.0       19000.0   \n",
       "16719       5550000.0  staple goods                 1.0       32000.0   \n",
       "16859       3700000.0  staple goods                 NaN       21000.0   \n",
       "\n",
       "       principal  default  industry_default_rate  probabilities  \n",
       "10251   290300.0     True               0.039785       0.326263  \n",
       "8791    405200.0     True               0.039785       0.403674  \n",
       "7497    309600.0     True               0.041634       0.352235  \n",
       "6533    386800.0     True               0.041634       0.426651  \n",
       "2182    611100.0     True               0.069179       0.537549  \n",
       "3052    270700.0     True               0.069179       0.595874  \n",
       "14507   411200.0     True               0.039695       0.402958  \n",
       "14438   358200.0     True               0.039695       0.437895  \n",
       "19085   294900.0     True               0.039135       0.339442  \n",
       "19887   341300.0     True               0.039135       0.336824  \n",
       "16719   507100.0     True               0.052398       0.504345  \n",
       "16859   404600.0     True               0.052398       0.503705  "
      ]
     },
     "execution_count": 70,
     "metadata": {},
     "output_type": "execute_result"
    }
   ],
   "source": [
    "sample_final.query('default == True')"
   ]
  },
  {
   "cell_type": "code",
   "execution_count": 71,
   "id": "345c4b06",
   "metadata": {},
   "outputs": [
    {
     "data": {
      "text/html": [
       "<div>\n",
       "<style scoped>\n",
       "    .dataframe tbody tr th:only-of-type {\n",
       "        vertical-align: middle;\n",
       "    }\n",
       "\n",
       "    .dataframe tbody tr th {\n",
       "        vertical-align: top;\n",
       "    }\n",
       "\n",
       "    .dataframe thead th {\n",
       "        text-align: right;\n",
       "    }\n",
       "</style>\n",
       "<table border=\"1\" class=\"dataframe\">\n",
       "  <thead>\n",
       "    <tr style=\"text-align: right;\">\n",
       "      <th></th>\n",
       "      <th>monthly_income</th>\n",
       "      <th>industry</th>\n",
       "      <th>years_in_operation</th>\n",
       "      <th>monthly_rent</th>\n",
       "      <th>principal</th>\n",
       "      <th>default</th>\n",
       "      <th>industry_default_rate</th>\n",
       "      <th>probabilities</th>\n",
       "    </tr>\n",
       "  </thead>\n",
       "  <tbody>\n",
       "    <tr>\n",
       "      <th>9428</th>\n",
       "      <td>4730000.0</td>\n",
       "      <td>electronics</td>\n",
       "      <td>5.0</td>\n",
       "      <td>38000.0</td>\n",
       "      <td>364900.0</td>\n",
       "      <td>False</td>\n",
       "      <td>0.039785</td>\n",
       "      <td>0.297071</td>\n",
       "    </tr>\n",
       "    <tr>\n",
       "      <th>9142</th>\n",
       "      <td>4040000.0</td>\n",
       "      <td>electronics</td>\n",
       "      <td>3.0</td>\n",
       "      <td>21000.0</td>\n",
       "      <td>328700.0</td>\n",
       "      <td>False</td>\n",
       "      <td>0.039785</td>\n",
       "      <td>0.352211</td>\n",
       "    </tr>\n",
       "    <tr>\n",
       "      <th>5063</th>\n",
       "      <td>4250000.0</td>\n",
       "      <td>fashion</td>\n",
       "      <td>3.0</td>\n",
       "      <td>42000.0</td>\n",
       "      <td>360600.0</td>\n",
       "      <td>False</td>\n",
       "      <td>0.041634</td>\n",
       "      <td>0.406109</td>\n",
       "    </tr>\n",
       "    <tr>\n",
       "      <th>7532</th>\n",
       "      <td>4450000.0</td>\n",
       "      <td>fashion</td>\n",
       "      <td>1.0</td>\n",
       "      <td>40000.0</td>\n",
       "      <td>348000.0</td>\n",
       "      <td>False</td>\n",
       "      <td>0.041634</td>\n",
       "      <td>0.430786</td>\n",
       "    </tr>\n",
       "    <tr>\n",
       "      <th>1444</th>\n",
       "      <td>4390000.0</td>\n",
       "      <td>metalworking</td>\n",
       "      <td>2.0</td>\n",
       "      <td>23000.0</td>\n",
       "      <td>331100.0</td>\n",
       "      <td>False</td>\n",
       "      <td>0.069179</td>\n",
       "      <td>0.555885</td>\n",
       "    </tr>\n",
       "    <tr>\n",
       "      <th>2959</th>\n",
       "      <td>3180000.0</td>\n",
       "      <td>metalworking</td>\n",
       "      <td>4.0</td>\n",
       "      <td>17000.0</td>\n",
       "      <td>257800.0</td>\n",
       "      <td>False</td>\n",
       "      <td>0.069179</td>\n",
       "      <td>0.537853</td>\n",
       "    </tr>\n",
       "    <tr>\n",
       "      <th>13578</th>\n",
       "      <td>6100000.0</td>\n",
       "      <td>mobile money</td>\n",
       "      <td>4.0</td>\n",
       "      <td>34000.0</td>\n",
       "      <td>609000.0</td>\n",
       "      <td>False</td>\n",
       "      <td>0.039695</td>\n",
       "      <td>0.408259</td>\n",
       "    </tr>\n",
       "    <tr>\n",
       "      <th>12781</th>\n",
       "      <td>7280000.0</td>\n",
       "      <td>mobile money</td>\n",
       "      <td>3.0</td>\n",
       "      <td>43000.0</td>\n",
       "      <td>611200.0</td>\n",
       "      <td>False</td>\n",
       "      <td>0.039695</td>\n",
       "      <td>0.371058</td>\n",
       "    </tr>\n",
       "    <tr>\n",
       "      <th>19145</th>\n",
       "      <td>7130000.0</td>\n",
       "      <td>none</td>\n",
       "      <td>4.0</td>\n",
       "      <td>39000.0</td>\n",
       "      <td>897600.0</td>\n",
       "      <td>False</td>\n",
       "      <td>0.039135</td>\n",
       "      <td>0.462157</td>\n",
       "    </tr>\n",
       "    <tr>\n",
       "      <th>19351</th>\n",
       "      <td>5580000.0</td>\n",
       "      <td>none</td>\n",
       "      <td>3.0</td>\n",
       "      <td>39000.0</td>\n",
       "      <td>386800.0</td>\n",
       "      <td>False</td>\n",
       "      <td>0.039135</td>\n",
       "      <td>0.301106</td>\n",
       "    </tr>\n",
       "    <tr>\n",
       "      <th>15460</th>\n",
       "      <td>4780000.0</td>\n",
       "      <td>staple goods</td>\n",
       "      <td>4.0</td>\n",
       "      <td>38000.0</td>\n",
       "      <td>439100.0</td>\n",
       "      <td>False</td>\n",
       "      <td>0.052398</td>\n",
       "      <td>0.441927</td>\n",
       "    </tr>\n",
       "    <tr>\n",
       "      <th>16712</th>\n",
       "      <td>5890000.0</td>\n",
       "      <td>staple goods</td>\n",
       "      <td>3.0</td>\n",
       "      <td>18000.0</td>\n",
       "      <td>462400.0</td>\n",
       "      <td>False</td>\n",
       "      <td>0.052398</td>\n",
       "      <td>0.432564</td>\n",
       "    </tr>\n",
       "  </tbody>\n",
       "</table>\n",
       "</div>"
      ],
      "text/plain": [
       "       monthly_income      industry  years_in_operation  monthly_rent  \\\n",
       "9428        4730000.0   electronics                 5.0       38000.0   \n",
       "9142        4040000.0   electronics                 3.0       21000.0   \n",
       "5063        4250000.0       fashion                 3.0       42000.0   \n",
       "7532        4450000.0       fashion                 1.0       40000.0   \n",
       "1444        4390000.0  metalworking                 2.0       23000.0   \n",
       "2959        3180000.0  metalworking                 4.0       17000.0   \n",
       "13578       6100000.0  mobile money                 4.0       34000.0   \n",
       "12781       7280000.0  mobile money                 3.0       43000.0   \n",
       "19145       7130000.0          none                 4.0       39000.0   \n",
       "19351       5580000.0          none                 3.0       39000.0   \n",
       "15460       4780000.0  staple goods                 4.0       38000.0   \n",
       "16712       5890000.0  staple goods                 3.0       18000.0   \n",
       "\n",
       "       principal  default  industry_default_rate  probabilities  \n",
       "9428    364900.0    False               0.039785       0.297071  \n",
       "9142    328700.0    False               0.039785       0.352211  \n",
       "5063    360600.0    False               0.041634       0.406109  \n",
       "7532    348000.0    False               0.041634       0.430786  \n",
       "1444    331100.0    False               0.069179       0.555885  \n",
       "2959    257800.0    False               0.069179       0.537853  \n",
       "13578   609000.0    False               0.039695       0.408259  \n",
       "12781   611200.0    False               0.039695       0.371058  \n",
       "19145   897600.0    False               0.039135       0.462157  \n",
       "19351   386800.0    False               0.039135       0.301106  \n",
       "15460   439100.0    False               0.052398       0.441927  \n",
       "16712   462400.0    False               0.052398       0.432564  "
      ]
     },
     "execution_count": 71,
     "metadata": {},
     "output_type": "execute_result"
    }
   ],
   "source": [
    "sample_final.query('default == False')"
   ]
  }
 ],
 "metadata": {
  "kernelspec": {
   "display_name": "Python 3",
   "language": "python",
   "name": "python3"
  },
  "language_info": {
   "codemirror_mode": {
    "name": "ipython",
    "version": 3
   },
   "file_extension": ".py",
   "mimetype": "text/x-python",
   "name": "python",
   "nbconvert_exporter": "python",
   "pygments_lexer": "ipython3",
   "version": "3.8.8"
  }
 },
 "nbformat": 4,
 "nbformat_minor": 5
}
